{
 "cells": [
  {
   "cell_type": "code",
   "execution_count": 1,
   "metadata": {},
   "outputs": [],
   "source": [
    "import numpy as np\n",
    "import pandas as pd\n",
    "import matplotlib.pyplot as plt\n",
    "import seaborn as sns"
   ]
  },
  {
   "cell_type": "code",
   "execution_count": 2,
   "metadata": {},
   "outputs": [],
   "source": [
    "import mysql.connector as sql\n",
    "\n",
    "db_connection = sql.connect(host='127.0.0.1', database='mydatabase', user='root', password='12345')\n",
    "air=pd.read_sql(\"select * from air\",con=db_connection)"
   ]
  },
  {
   "cell_type": "code",
   "execution_count": 3,
   "metadata": {},
   "outputs": [
    {
     "data": {
      "text/plain": [
       "(80, 10)"
      ]
     },
     "execution_count": 3,
     "metadata": {},
     "output_type": "execute_result"
    }
   ],
   "source": [
    "air.shape"
   ]
  },
  {
   "cell_type": "code",
   "execution_count": 4,
   "metadata": {},
   "outputs": [
    {
     "data": {
      "text/html": [
       "<div>\n",
       "<style scoped>\n",
       "    .dataframe tbody tr th:only-of-type {\n",
       "        vertical-align: middle;\n",
       "    }\n",
       "\n",
       "    .dataframe tbody tr th {\n",
       "        vertical-align: top;\n",
       "    }\n",
       "\n",
       "    .dataframe thead th {\n",
       "        text-align: right;\n",
       "    }\n",
       "</style>\n",
       "<table border=\"1\" class=\"dataframe\">\n",
       "  <thead>\n",
       "    <tr style=\"text-align: right;\">\n",
       "      <th></th>\n",
       "      <th>index</th>\n",
       "      <th>Week_num</th>\n",
       "      <th>Passengers</th>\n",
       "      <th>Promotion_Budget</th>\n",
       "      <th>Service_Quality_Score</th>\n",
       "      <th>Holiday_week</th>\n",
       "      <th>Delayed_Cancelled_flight_ind</th>\n",
       "      <th>Inter_metro_flight_ratio</th>\n",
       "      <th>Bad_Weather_Ind</th>\n",
       "      <th>Technical_issues_ind</th>\n",
       "    </tr>\n",
       "  </thead>\n",
       "  <tbody>\n",
       "    <tr>\n",
       "      <th>0</th>\n",
       "      <td>0</td>\n",
       "      <td>1</td>\n",
       "      <td>37824</td>\n",
       "      <td>517356</td>\n",
       "      <td>4.00000</td>\n",
       "      <td>NO</td>\n",
       "      <td>NO</td>\n",
       "      <td>0.70</td>\n",
       "      <td>YES</td>\n",
       "      <td>YES</td>\n",
       "    </tr>\n",
       "    <tr>\n",
       "      <th>1</th>\n",
       "      <td>1</td>\n",
       "      <td>2</td>\n",
       "      <td>43936</td>\n",
       "      <td>646086</td>\n",
       "      <td>2.67466</td>\n",
       "      <td>NO</td>\n",
       "      <td>YES</td>\n",
       "      <td>0.80</td>\n",
       "      <td>YES</td>\n",
       "      <td>YES</td>\n",
       "    </tr>\n",
       "    <tr>\n",
       "      <th>2</th>\n",
       "      <td>2</td>\n",
       "      <td>3</td>\n",
       "      <td>42896</td>\n",
       "      <td>638330</td>\n",
       "      <td>3.29473</td>\n",
       "      <td>NO</td>\n",
       "      <td>NO</td>\n",
       "      <td>0.90</td>\n",
       "      <td>NO</td>\n",
       "      <td>NO</td>\n",
       "    </tr>\n",
       "    <tr>\n",
       "      <th>3</th>\n",
       "      <td>3</td>\n",
       "      <td>4</td>\n",
       "      <td>35792</td>\n",
       "      <td>506492</td>\n",
       "      <td>3.85684</td>\n",
       "      <td>NO</td>\n",
       "      <td>NO</td>\n",
       "      <td>0.40</td>\n",
       "      <td>NO</td>\n",
       "      <td>NO</td>\n",
       "    </tr>\n",
       "    <tr>\n",
       "      <th>4</th>\n",
       "      <td>4</td>\n",
       "      <td>5</td>\n",
       "      <td>38624</td>\n",
       "      <td>609658</td>\n",
       "      <td>3.90757</td>\n",
       "      <td>NO</td>\n",
       "      <td>NO</td>\n",
       "      <td>0.87</td>\n",
       "      <td>NO</td>\n",
       "      <td>YES</td>\n",
       "    </tr>\n",
       "  </tbody>\n",
       "</table>\n",
       "</div>"
      ],
      "text/plain": [
       "   index  Week_num  Passengers  Promotion_Budget  Service_Quality_Score  \\\n",
       "0      0         1       37824            517356                4.00000   \n",
       "1      1         2       43936            646086                2.67466   \n",
       "2      2         3       42896            638330                3.29473   \n",
       "3      3         4       35792            506492                3.85684   \n",
       "4      4         5       38624            609658                3.90757   \n",
       "\n",
       "  Holiday_week Delayed_Cancelled_flight_ind  Inter_metro_flight_ratio  \\\n",
       "0           NO                           NO                      0.70   \n",
       "1           NO                          YES                      0.80   \n",
       "2           NO                           NO                      0.90   \n",
       "3           NO                           NO                      0.40   \n",
       "4           NO                           NO                      0.87   \n",
       "\n",
       "  Bad_Weather_Ind Technical_issues_ind  \n",
       "0             YES                  YES  \n",
       "1             YES                  YES  \n",
       "2              NO                   NO  \n",
       "3              NO                   NO  \n",
       "4              NO                  YES  "
      ]
     },
     "execution_count": 4,
     "metadata": {},
     "output_type": "execute_result"
    }
   ],
   "source": [
    "air.head()"
   ]
  },
  {
   "cell_type": "code",
   "execution_count": 5,
   "metadata": {},
   "outputs": [],
   "source": [
    "air.drop([\"index\"],axis=1,inplace=True)"
   ]
  },
  {
   "cell_type": "code",
   "execution_count": 6,
   "metadata": {},
   "outputs": [
    {
     "data": {
      "text/html": [
       "<div>\n",
       "<style scoped>\n",
       "    .dataframe tbody tr th:only-of-type {\n",
       "        vertical-align: middle;\n",
       "    }\n",
       "\n",
       "    .dataframe tbody tr th {\n",
       "        vertical-align: top;\n",
       "    }\n",
       "\n",
       "    .dataframe thead th {\n",
       "        text-align: right;\n",
       "    }\n",
       "</style>\n",
       "<table border=\"1\" class=\"dataframe\">\n",
       "  <thead>\n",
       "    <tr style=\"text-align: right;\">\n",
       "      <th></th>\n",
       "      <th>Week_num</th>\n",
       "      <th>Passengers</th>\n",
       "      <th>Promotion_Budget</th>\n",
       "      <th>Service_Quality_Score</th>\n",
       "      <th>Holiday_week</th>\n",
       "      <th>Delayed_Cancelled_flight_ind</th>\n",
       "      <th>Inter_metro_flight_ratio</th>\n",
       "      <th>Bad_Weather_Ind</th>\n",
       "      <th>Technical_issues_ind</th>\n",
       "    </tr>\n",
       "  </thead>\n",
       "  <tbody>\n",
       "    <tr>\n",
       "      <th>0</th>\n",
       "      <td>1</td>\n",
       "      <td>37824</td>\n",
       "      <td>517356</td>\n",
       "      <td>4.00000</td>\n",
       "      <td>NO</td>\n",
       "      <td>NO</td>\n",
       "      <td>0.7</td>\n",
       "      <td>YES</td>\n",
       "      <td>YES</td>\n",
       "    </tr>\n",
       "    <tr>\n",
       "      <th>1</th>\n",
       "      <td>2</td>\n",
       "      <td>43936</td>\n",
       "      <td>646086</td>\n",
       "      <td>2.67466</td>\n",
       "      <td>NO</td>\n",
       "      <td>YES</td>\n",
       "      <td>0.8</td>\n",
       "      <td>YES</td>\n",
       "      <td>YES</td>\n",
       "    </tr>\n",
       "  </tbody>\n",
       "</table>\n",
       "</div>"
      ],
      "text/plain": [
       "   Week_num  Passengers  Promotion_Budget  Service_Quality_Score Holiday_week  \\\n",
       "0         1       37824            517356                4.00000           NO   \n",
       "1         2       43936            646086                2.67466           NO   \n",
       "\n",
       "  Delayed_Cancelled_flight_ind  Inter_metro_flight_ratio Bad_Weather_Ind  \\\n",
       "0                           NO                       0.7             YES   \n",
       "1                          YES                       0.8             YES   \n",
       "\n",
       "  Technical_issues_ind  \n",
       "0                  YES  \n",
       "1                  YES  "
      ]
     },
     "execution_count": 6,
     "metadata": {},
     "output_type": "execute_result"
    }
   ],
   "source": [
    "air.head(2)"
   ]
  },
  {
   "cell_type": "code",
   "execution_count": 7,
   "metadata": {},
   "outputs": [
    {
     "data": {
      "text/plain": [
       "Week_num                          int64\n",
       "Passengers                        int64\n",
       "Promotion_Budget                  int64\n",
       "Service_Quality_Score           float64\n",
       "Holiday_week                     object\n",
       "Delayed_Cancelled_flight_ind     object\n",
       "Inter_metro_flight_ratio        float64\n",
       "Bad_Weather_Ind                  object\n",
       "Technical_issues_ind             object\n",
       "dtype: object"
      ]
     },
     "execution_count": 7,
     "metadata": {},
     "output_type": "execute_result"
    }
   ],
   "source": [
    "air.dtypes"
   ]
  },
  {
   "cell_type": "code",
   "execution_count": 11,
   "metadata": {},
   "outputs": [],
   "source": [
    "air_num=air.select_dtypes(include=[np.number]).copy()"
   ]
  },
  {
   "cell_type": "code",
   "execution_count": 12,
   "metadata": {},
   "outputs": [
    {
     "data": {
      "text/html": [
       "<div>\n",
       "<style scoped>\n",
       "    .dataframe tbody tr th:only-of-type {\n",
       "        vertical-align: middle;\n",
       "    }\n",
       "\n",
       "    .dataframe tbody tr th {\n",
       "        vertical-align: top;\n",
       "    }\n",
       "\n",
       "    .dataframe thead th {\n",
       "        text-align: right;\n",
       "    }\n",
       "</style>\n",
       "<table border=\"1\" class=\"dataframe\">\n",
       "  <thead>\n",
       "    <tr style=\"text-align: right;\">\n",
       "      <th></th>\n",
       "      <th>Week_num</th>\n",
       "      <th>Passengers</th>\n",
       "      <th>Promotion_Budget</th>\n",
       "      <th>Service_Quality_Score</th>\n",
       "      <th>Inter_metro_flight_ratio</th>\n",
       "    </tr>\n",
       "  </thead>\n",
       "  <tbody>\n",
       "    <tr>\n",
       "      <th>0</th>\n",
       "      <td>1</td>\n",
       "      <td>37824</td>\n",
       "      <td>517356</td>\n",
       "      <td>4.00000</td>\n",
       "      <td>0.7</td>\n",
       "    </tr>\n",
       "    <tr>\n",
       "      <th>1</th>\n",
       "      <td>2</td>\n",
       "      <td>43936</td>\n",
       "      <td>646086</td>\n",
       "      <td>2.67466</td>\n",
       "      <td>0.8</td>\n",
       "    </tr>\n",
       "  </tbody>\n",
       "</table>\n",
       "</div>"
      ],
      "text/plain": [
       "   Week_num  Passengers  Promotion_Budget  Service_Quality_Score  \\\n",
       "0         1       37824            517356                4.00000   \n",
       "1         2       43936            646086                2.67466   \n",
       "\n",
       "   Inter_metro_flight_ratio  \n",
       "0                       0.7  \n",
       "1                       0.8  "
      ]
     },
     "execution_count": 12,
     "metadata": {},
     "output_type": "execute_result"
    }
   ],
   "source": [
    "air_num.head(2)"
   ]
  },
  {
   "cell_type": "code",
   "execution_count": 13,
   "metadata": {},
   "outputs": [],
   "source": [
    "air_num.drop([\"Week_num\"],axis=1,inplace=True)"
   ]
  },
  {
   "cell_type": "code",
   "execution_count": 14,
   "metadata": {},
   "outputs": [
    {
     "data": {
      "text/html": [
       "<div>\n",
       "<style scoped>\n",
       "    .dataframe tbody tr th:only-of-type {\n",
       "        vertical-align: middle;\n",
       "    }\n",
       "\n",
       "    .dataframe tbody tr th {\n",
       "        vertical-align: top;\n",
       "    }\n",
       "\n",
       "    .dataframe thead th {\n",
       "        text-align: right;\n",
       "    }\n",
       "</style>\n",
       "<table border=\"1\" class=\"dataframe\">\n",
       "  <thead>\n",
       "    <tr style=\"text-align: right;\">\n",
       "      <th></th>\n",
       "      <th>Passengers</th>\n",
       "      <th>Promotion_Budget</th>\n",
       "      <th>Service_Quality_Score</th>\n",
       "      <th>Inter_metro_flight_ratio</th>\n",
       "    </tr>\n",
       "  </thead>\n",
       "  <tbody>\n",
       "    <tr>\n",
       "      <th>0</th>\n",
       "      <td>37824</td>\n",
       "      <td>517356</td>\n",
       "      <td>4.00000</td>\n",
       "      <td>0.7</td>\n",
       "    </tr>\n",
       "    <tr>\n",
       "      <th>1</th>\n",
       "      <td>43936</td>\n",
       "      <td>646086</td>\n",
       "      <td>2.67466</td>\n",
       "      <td>0.8</td>\n",
       "    </tr>\n",
       "  </tbody>\n",
       "</table>\n",
       "</div>"
      ],
      "text/plain": [
       "   Passengers  Promotion_Budget  Service_Quality_Score  \\\n",
       "0       37824            517356                4.00000   \n",
       "1       43936            646086                2.67466   \n",
       "\n",
       "   Inter_metro_flight_ratio  \n",
       "0                       0.7  \n",
       "1                       0.8  "
      ]
     },
     "execution_count": 14,
     "metadata": {},
     "output_type": "execute_result"
    }
   ],
   "source": [
    "air_num.head(2)"
   ]
  },
  {
   "cell_type": "markdown",
   "metadata": {},
   "source": [
    "# exract the depdent variable and indepdent variable"
   ]
  },
  {
   "cell_type": "code",
   "execution_count": 16,
   "metadata": {},
   "outputs": [],
   "source": [
    "x_train=air_num.drop([\"Passengers\"],axis=1)\n",
    "y_train=air_num[\"Passengers\"]"
   ]
  },
  {
   "cell_type": "code",
   "execution_count": 17,
   "metadata": {},
   "outputs": [
    {
     "data": {
      "text/plain": [
       "LinearRegression()"
      ]
     },
     "execution_count": 17,
     "metadata": {},
     "output_type": "execute_result"
    }
   ],
   "source": [
    "from sklearn.linear_model import LinearRegression\n",
    "lr=LinearRegression()\n",
    "lr.fit(x_train,y_train)"
   ]
  },
  {
   "cell_type": "code",
   "execution_count": 18,
   "metadata": {},
   "outputs": [
    {
     "data": {
      "text/plain": [
       "0.9513650522199228"
      ]
     },
     "execution_count": 18,
     "metadata": {},
     "output_type": "execute_result"
    }
   ],
   "source": [
    "lr.score(x_train,y_train)"
   ]
  },
  {
   "cell_type": "code",
   "execution_count": 19,
   "metadata": {},
   "outputs": [
    {
     "data": {
      "text/plain": [
       "array([ 5.55027075e-02, -2.80207080e+03, -2.00345080e+03])"
      ]
     },
     "execution_count": 19,
     "metadata": {},
     "output_type": "execute_result"
    }
   ],
   "source": [
    "lr.coef_"
   ]
  },
  {
   "cell_type": "code",
   "execution_count": 20,
   "metadata": {},
   "outputs": [
    {
     "data": {
      "text/plain": [
       "[('Promotion_Budget', 0.05550270754241695),\n",
       " ('Service_Quality_Score', -2802.070802434244),\n",
       " ('Inter_metro_flight_ratio', -2003.4508001029658)]"
      ]
     },
     "execution_count": 20,
     "metadata": {},
     "output_type": "execute_result"
    }
   ],
   "source": [
    "list(zip(x_train.columns,lr.coef_))"
   ]
  },
  {
   "cell_type": "code",
   "execution_count": 21,
   "metadata": {},
   "outputs": [
    {
     "data": {
      "text/plain": [
       "19213.811570876966"
      ]
     },
     "execution_count": 21,
     "metadata": {},
     "output_type": "execute_result"
    }
   ],
   "source": [
    "lr.intercept_"
   ]
  },
  {
   "cell_type": "code",
   "execution_count": 23,
   "metadata": {},
   "outputs": [],
   "source": [
    "air[\"pred\"]=lr.intercept_+air[\"Promotion_Budget\"]*0.05550270754241695+air[\"Service_Quality_Score\"]*-2802.070802434244 \\\n",
    "            +air[\"Inter_metro_flight_ratio\"]*-2003.4508001029658"
   ]
  },
  {
   "cell_type": "code",
   "execution_count": 24,
   "metadata": {},
   "outputs": [
    {
     "data": {
      "text/html": [
       "<div>\n",
       "<style scoped>\n",
       "    .dataframe tbody tr th:only-of-type {\n",
       "        vertical-align: middle;\n",
       "    }\n",
       "\n",
       "    .dataframe tbody tr th {\n",
       "        vertical-align: top;\n",
       "    }\n",
       "\n",
       "    .dataframe thead th {\n",
       "        text-align: right;\n",
       "    }\n",
       "</style>\n",
       "<table border=\"1\" class=\"dataframe\">\n",
       "  <thead>\n",
       "    <tr style=\"text-align: right;\">\n",
       "      <th></th>\n",
       "      <th>Week_num</th>\n",
       "      <th>Passengers</th>\n",
       "      <th>Promotion_Budget</th>\n",
       "      <th>Service_Quality_Score</th>\n",
       "      <th>Holiday_week</th>\n",
       "      <th>Delayed_Cancelled_flight_ind</th>\n",
       "      <th>Inter_metro_flight_ratio</th>\n",
       "      <th>Bad_Weather_Ind</th>\n",
       "      <th>Technical_issues_ind</th>\n",
       "      <th>pred</th>\n",
       "    </tr>\n",
       "  </thead>\n",
       "  <tbody>\n",
       "    <tr>\n",
       "      <th>0</th>\n",
       "      <td>1</td>\n",
       "      <td>37824</td>\n",
       "      <td>517356</td>\n",
       "      <td>4.00000</td>\n",
       "      <td>NO</td>\n",
       "      <td>NO</td>\n",
       "      <td>0.7</td>\n",
       "      <td>YES</td>\n",
       "      <td>YES</td>\n",
       "      <td>35317.771564</td>\n",
       "    </tr>\n",
       "    <tr>\n",
       "      <th>1</th>\n",
       "      <td>2</td>\n",
       "      <td>43936</td>\n",
       "      <td>646086</td>\n",
       "      <td>2.67466</td>\n",
       "      <td>NO</td>\n",
       "      <td>YES</td>\n",
       "      <td>0.8</td>\n",
       "      <td>YES</td>\n",
       "      <td>YES</td>\n",
       "      <td>45975.986544</td>\n",
       "    </tr>\n",
       "  </tbody>\n",
       "</table>\n",
       "</div>"
      ],
      "text/plain": [
       "   Week_num  Passengers  Promotion_Budget  Service_Quality_Score Holiday_week  \\\n",
       "0         1       37824            517356                4.00000           NO   \n",
       "1         2       43936            646086                2.67466           NO   \n",
       "\n",
       "  Delayed_Cancelled_flight_ind  Inter_metro_flight_ratio Bad_Weather_Ind  \\\n",
       "0                           NO                       0.7             YES   \n",
       "1                          YES                       0.8             YES   \n",
       "\n",
       "  Technical_issues_ind          pred  \n",
       "0                  YES  35317.771564  \n",
       "1                  YES  45975.986544  "
      ]
     },
     "execution_count": 24,
     "metadata": {},
     "output_type": "execute_result"
    }
   ],
   "source": [
    "air.head(2)"
   ]
  },
  {
   "cell_type": "code",
   "execution_count": 25,
   "metadata": {},
   "outputs": [
    {
     "data": {
      "text/html": [
       "<div>\n",
       "<style scoped>\n",
       "    .dataframe tbody tr th:only-of-type {\n",
       "        vertical-align: middle;\n",
       "    }\n",
       "\n",
       "    .dataframe tbody tr th {\n",
       "        vertical-align: top;\n",
       "    }\n",
       "\n",
       "    .dataframe thead th {\n",
       "        text-align: right;\n",
       "    }\n",
       "</style>\n",
       "<table border=\"1\" class=\"dataframe\">\n",
       "  <thead>\n",
       "    <tr style=\"text-align: right;\">\n",
       "      <th></th>\n",
       "      <th>Promotion_Budget</th>\n",
       "      <th>Service_Quality_Score</th>\n",
       "      <th>Inter_metro_flight_ratio</th>\n",
       "    </tr>\n",
       "  </thead>\n",
       "  <tbody>\n",
       "    <tr>\n",
       "      <th>0</th>\n",
       "      <td>517356</td>\n",
       "      <td>4.00000</td>\n",
       "      <td>0.7</td>\n",
       "    </tr>\n",
       "    <tr>\n",
       "      <th>1</th>\n",
       "      <td>646086</td>\n",
       "      <td>2.67466</td>\n",
       "      <td>0.8</td>\n",
       "    </tr>\n",
       "  </tbody>\n",
       "</table>\n",
       "</div>"
      ],
      "text/plain": [
       "   Promotion_Budget  Service_Quality_Score  Inter_metro_flight_ratio\n",
       "0            517356                4.00000                       0.7\n",
       "1            646086                2.67466                       0.8"
      ]
     },
     "execution_count": 25,
     "metadata": {},
     "output_type": "execute_result"
    }
   ],
   "source": [
    "x_train.head(2)"
   ]
  },
  {
   "cell_type": "code",
   "execution_count": 28,
   "metadata": {},
   "outputs": [],
   "source": [
    "import mysql.connector\n",
    "\n",
    "mydb = mysql.connector.connect(\n",
    "  host=\"127.0.0.1\",\n",
    "  user=\"root\",\n",
    "  passwd=\"12345\",\n",
    "  database=\"mydatabase\"\n",
    ")\n",
    "\n",
    "mycursor = mydb.cursor()\n",
    "\n",
    "mycursor.execute(\"CREATE TABLE air_3 (Promotion_Budget INT, Service_Quality_Score INT,Inter_metro_flight_ratio INT )\")"
   ]
  },
  {
   "cell_type": "code",
   "execution_count": 30,
   "metadata": {},
   "outputs": [
    {
     "name": "stdout",
     "output_type": "stream",
     "text": [
      "2 record(s) inserted.\n"
     ]
    }
   ],
   "source": [
    "import mysql.connector\n",
    "mydb = mysql.connector.connect(\n",
    "  host=\"127.0.0.1\",\n",
    "  user=\"root\",\n",
    "  passwd=\"12345\",\n",
    "  database=\"mydatabase\"\n",
    ")\n",
    "mycursor = mydb.cursor()\n",
    "sql = \"INSERT INTO air_3 (Promotion_Budget, Service_Quality_Score,Inter_metro_flight_ratio) VALUES (%s, %s,%s)\"\n",
    "val = [\n",
    "    (12000,4,3),\n",
    "    (14000,1,2)\n",
    "   \n",
    "]\n",
    "mycursor.executemany(sql, val)\n",
    "mydb.commit()\n",
    "print(mycursor.rowcount, \"record(s) inserted.\")"
   ]
  },
  {
   "cell_type": "code",
   "execution_count": 31,
   "metadata": {},
   "outputs": [
    {
     "data": {
      "text/plain": [
       "array([ 5.55027075e-02, -2.80207080e+03, -2.00345080e+03])"
      ]
     },
     "execution_count": 31,
     "metadata": {},
     "output_type": "execute_result"
    }
   ],
   "source": [
    "lr.coef_"
   ]
  },
  {
   "cell_type": "code",
   "execution_count": 32,
   "metadata": {},
   "outputs": [
    {
     "data": {
      "text/plain": [
       "19213.811570876966"
      ]
     },
     "execution_count": 32,
     "metadata": {},
     "output_type": "execute_result"
    }
   ],
   "source": [
    "lr.intercept_"
   ]
  },
  {
   "cell_type": "code",
   "execution_count": 34,
   "metadata": {},
   "outputs": [
    {
     "data": {
      "text/plain": [
       "'C:\\\\Users\\\\Koti\\\\Documents\\\\Data_Science\\\\DS_APR_2020'"
      ]
     },
     "execution_count": 34,
     "metadata": {},
     "output_type": "execute_result"
    }
   ],
   "source": [
    "import os\n",
    "os.getcwd()"
   ]
  },
  {
   "cell_type": "code",
   "execution_count": 35,
   "metadata": {},
   "outputs": [
    {
     "data": {
      "text/plain": [
       "'C:\\\\Users\\\\Koti\\\\Documents\\\\Data_Science\\\\DS_APR_2020\\\\model_deploy'"
      ]
     },
     "execution_count": 35,
     "metadata": {},
     "output_type": "execute_result"
    }
   ],
   "source": [
    "path=r\"C:\\Users\\Koti\\Documents\\Data_Science\\DS_APR_2020\\model_deploy\"\n",
    "os.chdir(path)\n",
    "os.getcwd()"
   ]
  },
  {
   "cell_type": "code",
   "execution_count": 39,
   "metadata": {},
   "outputs": [
    {
     "data": {
      "text/plain": [
       "['Model_columns.pkl']"
      ]
     },
     "execution_count": 39,
     "metadata": {},
     "output_type": "execute_result"
    }
   ],
   "source": [
    "import joblib\n",
    "\n",
    "joblib.dump(lr,\"model.pkl\")\n",
    "lr1= joblib.load(\"model.pkl\")\n",
    "model_columns = list(x_train.columns)\n",
    "joblib.dump(model_columns,\"Model_columns.pkl\")"
   ]
  },
  {
   "cell_type": "code",
   "execution_count": 40,
   "metadata": {},
   "outputs": [
    {
     "data": {
      "text/plain": [
       "array([ 5.55027075e-02, -2.80207080e+03, -2.00345080e+03])"
      ]
     },
     "execution_count": 40,
     "metadata": {},
     "output_type": "execute_result"
    }
   ],
   "source": [
    "lr1.coef_"
   ]
  },
  {
   "cell_type": "code",
   "execution_count": 41,
   "metadata": {},
   "outputs": [
    {
     "data": {
      "application/javascript": [
       "\n",
       "        if (window._pyforest_update_imports_cell) { window._pyforest_update_imports_cell('import sys'); }\n",
       "    "
      ],
      "text/plain": [
       "<IPython.core.display.Javascript object>"
      ]
     },
     "metadata": {},
     "output_type": "display_data"
    },
    {
     "name": "stdout",
     "output_type": "stream",
     "text": [
      "Model Load Successfully\n",
      "Model columns load Successfully\n",
      " * Serving Flask app \"__main__\" (lazy loading)\n",
      " * Environment: production\n",
      "   WARNING: This is a development server. Do not use it in a production deployment.\n",
      "   Use a production WSGI server instead.\n",
      " * Debug mode: off\n"
     ]
    },
    {
     "name": "stderr",
     "output_type": "stream",
     "text": [
      " * Running on http://127.0.0.1:12345/ (Press CTRL+C to quit)\n",
      "127.0.0.1 - - [08/Aug/2020 08:50:16] \"\u001b[33mGET / HTTP/1.1\u001b[0m\" 404 -\n",
      "127.0.0.1 - - [08/Aug/2020 08:50:16] \"\u001b[33mGET /favicon.ico HTTP/1.1\u001b[0m\" 404 -\n"
     ]
    }
   ],
   "source": [
    "from flask import Flask ,jsonify,request\n",
    "import joblib\n",
    "import traceback\n",
    "import pandas as pd\n",
    "import numpy as np\n",
    "\n",
    "\n",
    "\n",
    "app = Flask(__name__)\n",
    "\n",
    "\n",
    "@app.route(\"/predict\", methods=[\"POST\",\"GET\"])\n",
    "def predict():\n",
    "    if ler:\n",
    "        try:\n",
    "            json_ = request.json\n",
    "            query = pd.get_dummies(pd.DataFrame(json_))\n",
    "            query = query.reindex(columns= model_columns,fill_value=0)\n",
    "\n",
    "            prediction = list(ler.predict(query))\n",
    "            return jsonify({\"prediction\":str(prediction)})\n",
    "        except:\n",
    "            return jsonify({\"trace\":traceback.format_exc()})\n",
    "    else:\n",
    "        print(\"Train the  model first\")\n",
    "        return \"No model is here to use\"\n",
    "\n",
    "if __name__ == '__main__':\n",
    "    try:\n",
    "        port = int(sys.argv[1])\n",
    "    except:\n",
    "        port =12345\n",
    "    ler = joblib.load(\"model.pkl\")\n",
    "    print(\"Model Load Successfully\")\n",
    "    model_columns = joblib.load(\"Model_columns.pkl\")\n",
    "    print(\"Model columns load Successfully\")\n",
    "    app.run(debug=False,port=port)\n"
   ]
  },
  {
   "cell_type": "code",
   "execution_count": 42,
   "metadata": {},
   "outputs": [
    {
     "data": {
      "text/plain": [
       "Index(['Promotion_Budget', 'Service_Quality_Score',\n",
       "       'Inter_metro_flight_ratio'],\n",
       "      dtype='object')"
      ]
     },
     "execution_count": 42,
     "metadata": {},
     "output_type": "execute_result"
    }
   ],
   "source": [
    "x_train.columns"
   ]
  },
  {
   "cell_type": "code",
   "execution_count": 43,
   "metadata": {},
   "outputs": [
    {
     "data": {
      "text/html": [
       "<div>\n",
       "<style scoped>\n",
       "    .dataframe tbody tr th:only-of-type {\n",
       "        vertical-align: middle;\n",
       "    }\n",
       "\n",
       "    .dataframe tbody tr th {\n",
       "        vertical-align: top;\n",
       "    }\n",
       "\n",
       "    .dataframe thead th {\n",
       "        text-align: right;\n",
       "    }\n",
       "</style>\n",
       "<table border=\"1\" class=\"dataframe\">\n",
       "  <thead>\n",
       "    <tr style=\"text-align: right;\">\n",
       "      <th></th>\n",
       "      <th>Promotion_Budget</th>\n",
       "      <th>Service_Quality_Score</th>\n",
       "      <th>Inter_metro_flight_ratio</th>\n",
       "    </tr>\n",
       "  </thead>\n",
       "  <tbody>\n",
       "    <tr>\n",
       "      <th>0</th>\n",
       "      <td>10</td>\n",
       "      <td>3</td>\n",
       "      <td>7</td>\n",
       "    </tr>\n",
       "  </tbody>\n",
       "</table>\n",
       "</div>"
      ],
      "text/plain": [
       "   Promotion_Budget  Service_Quality_Score  Inter_metro_flight_ratio\n",
       "0                10                      3                         7"
      ]
     },
     "execution_count": 43,
     "metadata": {},
     "output_type": "execute_result"
    }
   ],
   "source": [
    "x_test=pd.DataFrame({\"Promotion_Budget\":[10],\"Service_Quality_Score\":[3],\"Inter_metro_flight_ratio\":[7]})\n",
    "x_test"
   ]
  },
  {
   "cell_type": "code",
   "execution_count": 44,
   "metadata": {},
   "outputs": [],
   "source": [
    "x_test[\"pred\"]=lr.predict(x_test)"
   ]
  },
  {
   "cell_type": "code",
   "execution_count": 45,
   "metadata": {},
   "outputs": [
    {
     "data": {
      "text/html": [
       "<div>\n",
       "<style scoped>\n",
       "    .dataframe tbody tr th:only-of-type {\n",
       "        vertical-align: middle;\n",
       "    }\n",
       "\n",
       "    .dataframe tbody tr th {\n",
       "        vertical-align: top;\n",
       "    }\n",
       "\n",
       "    .dataframe thead th {\n",
       "        text-align: right;\n",
       "    }\n",
       "</style>\n",
       "<table border=\"1\" class=\"dataframe\">\n",
       "  <thead>\n",
       "    <tr style=\"text-align: right;\">\n",
       "      <th></th>\n",
       "      <th>Promotion_Budget</th>\n",
       "      <th>Service_Quality_Score</th>\n",
       "      <th>Inter_metro_flight_ratio</th>\n",
       "      <th>pred</th>\n",
       "    </tr>\n",
       "  </thead>\n",
       "  <tbody>\n",
       "    <tr>\n",
       "      <th>0</th>\n",
       "      <td>10</td>\n",
       "      <td>3</td>\n",
       "      <td>7</td>\n",
       "      <td>-3216.00141</td>\n",
       "    </tr>\n",
       "  </tbody>\n",
       "</table>\n",
       "</div>"
      ],
      "text/plain": [
       "   Promotion_Budget  Service_Quality_Score  Inter_metro_flight_ratio  \\\n",
       "0                10                      3                         7   \n",
       "\n",
       "         pred  \n",
       "0 -3216.00141  "
      ]
     },
     "execution_count": 45,
     "metadata": {},
     "output_type": "execute_result"
    }
   ],
   "source": [
    "x_test"
   ]
  },
  {
   "cell_type": "code",
   "execution_count": null,
   "metadata": {},
   "outputs": [],
   "source": []
  }
 ],
 "metadata": {
  "kernelspec": {
   "display_name": "Python 3",
   "language": "python",
   "name": "python3"
  },
  "language_info": {
   "codemirror_mode": {
    "name": "ipython",
    "version": 3
   },
   "file_extension": ".py",
   "mimetype": "text/x-python",
   "name": "python",
   "nbconvert_exporter": "python",
   "pygments_lexer": "ipython3",
   "version": "3.7.6"
  }
 },
 "nbformat": 4,
 "nbformat_minor": 4
}
