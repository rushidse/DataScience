{
 "cells": [
  {
   "cell_type": "code",
   "execution_count": 1,
   "metadata": {},
   "outputs": [],
   "source": [
    "import numpy as np\n",
    "import pandas as pd\n",
    "import matplotlib.pyplot as plt\n",
    "import seaborn as sns"
   ]
  },
  {
   "cell_type": "code",
   "execution_count": 2,
   "metadata": {},
   "outputs": [],
   "source": [
    "hr=pd.read_csv(r\"C:\\ksr\\data science\\DS_batch1\\datasets\\HR_comma_sep.csv\")"
   ]
  },
  {
   "cell_type": "code",
   "execution_count": 3,
   "metadata": {},
   "outputs": [
    {
     "data": {
      "text/html": [
       "<div>\n",
       "<style scoped>\n",
       "    .dataframe tbody tr th:only-of-type {\n",
       "        vertical-align: middle;\n",
       "    }\n",
       "\n",
       "    .dataframe tbody tr th {\n",
       "        vertical-align: top;\n",
       "    }\n",
       "\n",
       "    .dataframe thead th {\n",
       "        text-align: right;\n",
       "    }\n",
       "</style>\n",
       "<table border=\"1\" class=\"dataframe\">\n",
       "  <thead>\n",
       "    <tr style=\"text-align: right;\">\n",
       "      <th></th>\n",
       "      <th>satisfaction_level</th>\n",
       "      <th>last_evaluation</th>\n",
       "      <th>number_project</th>\n",
       "      <th>average_montly_hours</th>\n",
       "      <th>time_spend_company</th>\n",
       "      <th>Work_accident</th>\n",
       "      <th>left</th>\n",
       "      <th>promotion_last_5years</th>\n",
       "      <th>Departments</th>\n",
       "      <th>salary</th>\n",
       "    </tr>\n",
       "  </thead>\n",
       "  <tbody>\n",
       "    <tr>\n",
       "      <th>0</th>\n",
       "      <td>0.38</td>\n",
       "      <td>0.53</td>\n",
       "      <td>2</td>\n",
       "      <td>157</td>\n",
       "      <td>3</td>\n",
       "      <td>0</td>\n",
       "      <td>1</td>\n",
       "      <td>0</td>\n",
       "      <td>sales</td>\n",
       "      <td>low</td>\n",
       "    </tr>\n",
       "    <tr>\n",
       "      <th>1</th>\n",
       "      <td>0.80</td>\n",
       "      <td>0.86</td>\n",
       "      <td>5</td>\n",
       "      <td>262</td>\n",
       "      <td>6</td>\n",
       "      <td>0</td>\n",
       "      <td>1</td>\n",
       "      <td>0</td>\n",
       "      <td>sales</td>\n",
       "      <td>medium</td>\n",
       "    </tr>\n",
       "    <tr>\n",
       "      <th>2</th>\n",
       "      <td>0.11</td>\n",
       "      <td>0.88</td>\n",
       "      <td>7</td>\n",
       "      <td>272</td>\n",
       "      <td>4</td>\n",
       "      <td>0</td>\n",
       "      <td>1</td>\n",
       "      <td>0</td>\n",
       "      <td>sales</td>\n",
       "      <td>medium</td>\n",
       "    </tr>\n",
       "    <tr>\n",
       "      <th>3</th>\n",
       "      <td>0.72</td>\n",
       "      <td>0.87</td>\n",
       "      <td>5</td>\n",
       "      <td>223</td>\n",
       "      <td>5</td>\n",
       "      <td>0</td>\n",
       "      <td>1</td>\n",
       "      <td>0</td>\n",
       "      <td>sales</td>\n",
       "      <td>low</td>\n",
       "    </tr>\n",
       "    <tr>\n",
       "      <th>4</th>\n",
       "      <td>0.37</td>\n",
       "      <td>0.52</td>\n",
       "      <td>2</td>\n",
       "      <td>159</td>\n",
       "      <td>3</td>\n",
       "      <td>0</td>\n",
       "      <td>1</td>\n",
       "      <td>0</td>\n",
       "      <td>sales</td>\n",
       "      <td>low</td>\n",
       "    </tr>\n",
       "  </tbody>\n",
       "</table>\n",
       "</div>"
      ],
      "text/plain": [
       "   satisfaction_level  last_evaluation  number_project  average_montly_hours  \\\n",
       "0                0.38             0.53               2                   157   \n",
       "1                0.80             0.86               5                   262   \n",
       "2                0.11             0.88               7                   272   \n",
       "3                0.72             0.87               5                   223   \n",
       "4                0.37             0.52               2                   159   \n",
       "\n",
       "   time_spend_company  Work_accident  left  promotion_last_5years  \\\n",
       "0                   3              0     1                      0   \n",
       "1                   6              0     1                      0   \n",
       "2                   4              0     1                      0   \n",
       "3                   5              0     1                      0   \n",
       "4                   3              0     1                      0   \n",
       "\n",
       "  Departments   salary  \n",
       "0        sales     low  \n",
       "1        sales  medium  \n",
       "2        sales  medium  \n",
       "3        sales     low  \n",
       "4        sales     low  "
      ]
     },
     "execution_count": 3,
     "metadata": {},
     "output_type": "execute_result"
    }
   ],
   "source": [
    "hr.head()"
   ]
  },
  {
   "cell_type": "code",
   "execution_count": 4,
   "metadata": {},
   "outputs": [
    {
     "data": {
      "text/plain": [
       "Index(['satisfaction_level', 'last_evaluation', 'number_project',\n",
       "       'average_montly_hours', 'time_spend_company', 'Work_accident', 'left',\n",
       "       'promotion_last_5years', 'Departments ', 'salary'],\n",
       "      dtype='object')"
      ]
     },
     "execution_count": 4,
     "metadata": {},
     "output_type": "execute_result"
    }
   ],
   "source": [
    "hr.columns"
   ]
  },
  {
   "cell_type": "code",
   "execution_count": 5,
   "metadata": {},
   "outputs": [],
   "source": [
    "hr=hr.rename(columns=lambda x:x.strip())"
   ]
  },
  {
   "cell_type": "code",
   "execution_count": 6,
   "metadata": {},
   "outputs": [
    {
     "data": {
      "text/plain": [
       "Index(['satisfaction_level', 'last_evaluation', 'number_project',\n",
       "       'average_montly_hours', 'time_spend_company', 'Work_accident', 'left',\n",
       "       'promotion_last_5years', 'Departments', 'salary'],\n",
       "      dtype='object')"
      ]
     },
     "execution_count": 6,
     "metadata": {},
     "output_type": "execute_result"
    }
   ],
   "source": [
    "hr.columns"
   ]
  },
  {
   "cell_type": "code",
   "execution_count": 7,
   "metadata": {},
   "outputs": [],
   "source": [
    "hr[\"number_project\"]=hr[\"number_project\"].astype(str)\n",
    "hr[\"time_spend_company\"]=hr[\"time_spend_company\"].astype(str)"
   ]
  },
  {
   "cell_type": "code",
   "execution_count": 8,
   "metadata": {},
   "outputs": [],
   "source": [
    "hr1=pd.get_dummies(hr)"
   ]
  },
  {
   "cell_type": "code",
   "execution_count": 9,
   "metadata": {},
   "outputs": [
    {
     "name": "stdout",
     "output_type": "stream",
     "text": [
      "(10499, 33) (4500, 33)\n"
     ]
    }
   ],
   "source": [
    "from sklearn.model_selection import train_test_split\n",
    "train,test=train_test_split(hr1,test_size=0.3,random_state=0)\n",
    "print(train.shape,test.shape)"
   ]
  },
  {
   "cell_type": "code",
   "execution_count": 11,
   "metadata": {},
   "outputs": [],
   "source": [
    "x_train=train.drop([\"left\"],axis=1)\n",
    "y_train=train[\"left\"]\n",
    "x_test=test.drop([\"left\"],axis=1)\n",
    "y_test=test[\"left\"]"
   ]
  },
  {
   "cell_type": "code",
   "execution_count": 13,
   "metadata": {},
   "outputs": [],
   "source": [
    "from sklearn.linear_model import LogisticRegression\n",
    "from sklearn.tree import DecisionTreeClassifier\n",
    "from sklearn.naive_bayes import GaussianNB\n",
    "from sklearn.ensemble import VotingClassifier\n",
    "from sklearn import model_selection"
   ]
  },
  {
   "cell_type": "code",
   "execution_count": 15,
   "metadata": {},
   "outputs": [],
   "source": [
    "kfold=model_selection.KFold(n_splits=10)"
   ]
  },
  {
   "cell_type": "code",
   "execution_count": 25,
   "metadata": {},
   "outputs": [],
   "source": [
    "estimators=[]\n",
    "model1=LogisticRegression(solver=\"liblinear\")\n",
    "estimators.append((\"logistic\",model1))\n",
    "model2=DecisionTreeClassifier()\n",
    "estimators.append((\"CART\",model2))\n",
    "model3=GaussianNB()\n",
    "estimators.append((\"GB\",model3))"
   ]
  },
  {
   "cell_type": "code",
   "execution_count": 26,
   "metadata": {},
   "outputs": [],
   "source": [
    "ensemble=VotingClassifier(estimators)"
   ]
  },
  {
   "cell_type": "code",
   "execution_count": 27,
   "metadata": {
    "scrolled": true
   },
   "outputs": [],
   "source": [
    "results=model_selection.cross_val_score(ensemble,x_train,y_train,cv=kfold)"
   ]
  },
  {
   "cell_type": "code",
   "execution_count": 28,
   "metadata": {},
   "outputs": [
    {
     "name": "stdout",
     "output_type": "stream",
     "text": [
      "0.9217080212447228\n"
     ]
    }
   ],
   "source": [
    "print(results.mean())"
   ]
  },
  {
   "cell_type": "code",
   "execution_count": 29,
   "metadata": {},
   "outputs": [
    {
     "data": {
      "text/plain": [
       "array([0.92761905, 0.90666667, 0.91333333, 0.91428571, 0.93809524,\n",
       "       0.92285714, 0.91714286, 0.92      , 0.92285714, 0.93422307])"
      ]
     },
     "execution_count": 29,
     "metadata": {},
     "output_type": "execute_result"
    }
   ],
   "source": [
    "results"
   ]
  },
  {
   "cell_type": "code",
   "execution_count": 32,
   "metadata": {},
   "outputs": [],
   "source": [
    "abc=[]\n",
    "model=LogisticRegression(solver=\"liblinear\")\n",
    "resul_1=model_selection.cross_val_score(model,x_train,y_train,cv=kfold)"
   ]
  },
  {
   "cell_type": "code",
   "execution_count": 34,
   "metadata": {},
   "outputs": [
    {
     "data": {
      "text/plain": [
       "array([0.90190476, 0.8847619 , 0.88571429, 0.8847619 , 0.89142857,\n",
       "       0.88857143, 0.88666667, 0.88190476, 0.89619048, 0.90467112])"
      ]
     },
     "execution_count": 34,
     "metadata": {},
     "output_type": "execute_result"
    }
   ],
   "source": [
    "resul_1"
   ]
  },
  {
   "cell_type": "code",
   "execution_count": 35,
   "metadata": {},
   "outputs": [
    {
     "data": {
      "text/plain": [
       "array([0.97904762, 0.9752381 , 0.97904762, 0.97809524, 0.97904762,\n",
       "       0.97714286, 0.98      , 0.97238095, 0.97047619, 0.97998093])"
      ]
     },
     "execution_count": 35,
     "metadata": {},
     "output_type": "execute_result"
    }
   ],
   "source": [
    "abc=[]\n",
    "model=DecisionTreeClassifier()\n",
    "resul_2=model_selection.cross_val_score(model,x_train,y_train,cv=kfold)\n",
    "resul_2"
   ]
  },
  {
   "cell_type": "code",
   "execution_count": 36,
   "metadata": {},
   "outputs": [
    {
     "data": {
      "text/plain": [
       "array([0.70380952, 0.69047619, 0.6847619 , 0.69714286, 0.72190476,\n",
       "       0.69904762, 0.68666667, 0.71904762, 0.71809524, 0.69018112])"
      ]
     },
     "execution_count": 36,
     "metadata": {},
     "output_type": "execute_result"
    }
   ],
   "source": [
    "abc=[]\n",
    "model=GaussianNB()\n",
    "resul_3=model_selection.cross_val_score(model,x_train,y_train,cv=kfold)\n",
    "resul_3"
   ]
  },
  {
   "cell_type": "code",
   "execution_count": 45,
   "metadata": {},
   "outputs": [],
   "source": [
    "resul_lg=pd.Series(resul_1)\n",
    "resul_dt=pd.Series(resul_2)\n",
    "resul_nb=pd.Series(resul_3)\n",
    "resul_ovr=pd.Series(results)"
   ]
  },
  {
   "cell_type": "code",
   "execution_count": 46,
   "metadata": {},
   "outputs": [],
   "source": [
    "model1=pd.concat([resul_lg,resul_dt,resul_nb,resul_ovr],axis=1)"
   ]
  },
  {
   "cell_type": "code",
   "execution_count": 47,
   "metadata": {},
   "outputs": [
    {
     "data": {
      "text/html": [
       "<div>\n",
       "<style scoped>\n",
       "    .dataframe tbody tr th:only-of-type {\n",
       "        vertical-align: middle;\n",
       "    }\n",
       "\n",
       "    .dataframe tbody tr th {\n",
       "        vertical-align: top;\n",
       "    }\n",
       "\n",
       "    .dataframe thead th {\n",
       "        text-align: right;\n",
       "    }\n",
       "</style>\n",
       "<table border=\"1\" class=\"dataframe\">\n",
       "  <thead>\n",
       "    <tr style=\"text-align: right;\">\n",
       "      <th></th>\n",
       "      <th>0</th>\n",
       "      <th>1</th>\n",
       "      <th>2</th>\n",
       "      <th>3</th>\n",
       "    </tr>\n",
       "  </thead>\n",
       "  <tbody>\n",
       "    <tr>\n",
       "      <th>0</th>\n",
       "      <td>0.901905</td>\n",
       "      <td>0.979048</td>\n",
       "      <td>0.703810</td>\n",
       "      <td>0.927619</td>\n",
       "    </tr>\n",
       "    <tr>\n",
       "      <th>1</th>\n",
       "      <td>0.884762</td>\n",
       "      <td>0.975238</td>\n",
       "      <td>0.690476</td>\n",
       "      <td>0.906667</td>\n",
       "    </tr>\n",
       "    <tr>\n",
       "      <th>2</th>\n",
       "      <td>0.885714</td>\n",
       "      <td>0.979048</td>\n",
       "      <td>0.684762</td>\n",
       "      <td>0.913333</td>\n",
       "    </tr>\n",
       "    <tr>\n",
       "      <th>3</th>\n",
       "      <td>0.884762</td>\n",
       "      <td>0.978095</td>\n",
       "      <td>0.697143</td>\n",
       "      <td>0.914286</td>\n",
       "    </tr>\n",
       "    <tr>\n",
       "      <th>4</th>\n",
       "      <td>0.891429</td>\n",
       "      <td>0.979048</td>\n",
       "      <td>0.721905</td>\n",
       "      <td>0.938095</td>\n",
       "    </tr>\n",
       "    <tr>\n",
       "      <th>5</th>\n",
       "      <td>0.888571</td>\n",
       "      <td>0.977143</td>\n",
       "      <td>0.699048</td>\n",
       "      <td>0.922857</td>\n",
       "    </tr>\n",
       "    <tr>\n",
       "      <th>6</th>\n",
       "      <td>0.886667</td>\n",
       "      <td>0.980000</td>\n",
       "      <td>0.686667</td>\n",
       "      <td>0.917143</td>\n",
       "    </tr>\n",
       "    <tr>\n",
       "      <th>7</th>\n",
       "      <td>0.881905</td>\n",
       "      <td>0.972381</td>\n",
       "      <td>0.719048</td>\n",
       "      <td>0.920000</td>\n",
       "    </tr>\n",
       "    <tr>\n",
       "      <th>8</th>\n",
       "      <td>0.896190</td>\n",
       "      <td>0.970476</td>\n",
       "      <td>0.718095</td>\n",
       "      <td>0.922857</td>\n",
       "    </tr>\n",
       "    <tr>\n",
       "      <th>9</th>\n",
       "      <td>0.904671</td>\n",
       "      <td>0.979981</td>\n",
       "      <td>0.690181</td>\n",
       "      <td>0.934223</td>\n",
       "    </tr>\n",
       "  </tbody>\n",
       "</table>\n",
       "</div>"
      ],
      "text/plain": [
       "          0         1         2         3\n",
       "0  0.901905  0.979048  0.703810  0.927619\n",
       "1  0.884762  0.975238  0.690476  0.906667\n",
       "2  0.885714  0.979048  0.684762  0.913333\n",
       "3  0.884762  0.978095  0.697143  0.914286\n",
       "4  0.891429  0.979048  0.721905  0.938095\n",
       "5  0.888571  0.977143  0.699048  0.922857\n",
       "6  0.886667  0.980000  0.686667  0.917143\n",
       "7  0.881905  0.972381  0.719048  0.920000\n",
       "8  0.896190  0.970476  0.718095  0.922857\n",
       "9  0.904671  0.979981  0.690181  0.934223"
      ]
     },
     "execution_count": 47,
     "metadata": {},
     "output_type": "execute_result"
    }
   ],
   "source": [
    "model1"
   ]
  },
  {
   "cell_type": "code",
   "execution_count": 48,
   "metadata": {},
   "outputs": [],
   "source": [
    "from pycaret.classification import *"
   ]
  },
  {
   "cell_type": "code",
   "execution_count": 49,
   "metadata": {},
   "outputs": [
    {
     "name": "stdout",
     "output_type": "stream",
     "text": [
      " \n",
      "Setup Succesfully Completed!\n"
     ]
    },
    {
     "data": {
      "text/html": [
       "<style  type=\"text/css\" >\n",
       "</style><table id=\"T_49d4ebda_b121_11ea_b20e_f82819e5b6a4\" ><thead>    <tr>        <th class=\"blank level0\" ></th>        <th class=\"col_heading level0 col0\" >Description</th>        <th class=\"col_heading level0 col1\" >Value</th>    </tr></thead><tbody>\n",
       "                <tr>\n",
       "                        <th id=\"T_49d4ebda_b121_11ea_b20e_f82819e5b6a4level0_row0\" class=\"row_heading level0 row0\" >0</th>\n",
       "                        <td id=\"T_49d4ebda_b121_11ea_b20e_f82819e5b6a4row0_col0\" class=\"data row0 col0\" >session_id</td>\n",
       "                        <td id=\"T_49d4ebda_b121_11ea_b20e_f82819e5b6a4row0_col1\" class=\"data row0 col1\" >6859</td>\n",
       "            </tr>\n",
       "            <tr>\n",
       "                        <th id=\"T_49d4ebda_b121_11ea_b20e_f82819e5b6a4level0_row1\" class=\"row_heading level0 row1\" >1</th>\n",
       "                        <td id=\"T_49d4ebda_b121_11ea_b20e_f82819e5b6a4row1_col0\" class=\"data row1 col0\" >Target Type</td>\n",
       "                        <td id=\"T_49d4ebda_b121_11ea_b20e_f82819e5b6a4row1_col1\" class=\"data row1 col1\" >Binary</td>\n",
       "            </tr>\n",
       "            <tr>\n",
       "                        <th id=\"T_49d4ebda_b121_11ea_b20e_f82819e5b6a4level0_row2\" class=\"row_heading level0 row2\" >2</th>\n",
       "                        <td id=\"T_49d4ebda_b121_11ea_b20e_f82819e5b6a4row2_col0\" class=\"data row2 col0\" >Label Encoded</td>\n",
       "                        <td id=\"T_49d4ebda_b121_11ea_b20e_f82819e5b6a4row2_col1\" class=\"data row2 col1\" >None</td>\n",
       "            </tr>\n",
       "            <tr>\n",
       "                        <th id=\"T_49d4ebda_b121_11ea_b20e_f82819e5b6a4level0_row3\" class=\"row_heading level0 row3\" >3</th>\n",
       "                        <td id=\"T_49d4ebda_b121_11ea_b20e_f82819e5b6a4row3_col0\" class=\"data row3 col0\" >Original Data</td>\n",
       "                        <td id=\"T_49d4ebda_b121_11ea_b20e_f82819e5b6a4row3_col1\" class=\"data row3 col1\" >(14999, 33)</td>\n",
       "            </tr>\n",
       "            <tr>\n",
       "                        <th id=\"T_49d4ebda_b121_11ea_b20e_f82819e5b6a4level0_row4\" class=\"row_heading level0 row4\" >4</th>\n",
       "                        <td id=\"T_49d4ebda_b121_11ea_b20e_f82819e5b6a4row4_col0\" class=\"data row4 col0\" >Missing Values </td>\n",
       "                        <td id=\"T_49d4ebda_b121_11ea_b20e_f82819e5b6a4row4_col1\" class=\"data row4 col1\" >False</td>\n",
       "            </tr>\n",
       "            <tr>\n",
       "                        <th id=\"T_49d4ebda_b121_11ea_b20e_f82819e5b6a4level0_row5\" class=\"row_heading level0 row5\" >5</th>\n",
       "                        <td id=\"T_49d4ebda_b121_11ea_b20e_f82819e5b6a4row5_col0\" class=\"data row5 col0\" >Numeric Features </td>\n",
       "                        <td id=\"T_49d4ebda_b121_11ea_b20e_f82819e5b6a4row5_col1\" class=\"data row5 col1\" >30</td>\n",
       "            </tr>\n",
       "            <tr>\n",
       "                        <th id=\"T_49d4ebda_b121_11ea_b20e_f82819e5b6a4level0_row6\" class=\"row_heading level0 row6\" >6</th>\n",
       "                        <td id=\"T_49d4ebda_b121_11ea_b20e_f82819e5b6a4row6_col0\" class=\"data row6 col0\" >Categorical Features </td>\n",
       "                        <td id=\"T_49d4ebda_b121_11ea_b20e_f82819e5b6a4row6_col1\" class=\"data row6 col1\" >2</td>\n",
       "            </tr>\n",
       "            <tr>\n",
       "                        <th id=\"T_49d4ebda_b121_11ea_b20e_f82819e5b6a4level0_row7\" class=\"row_heading level0 row7\" >7</th>\n",
       "                        <td id=\"T_49d4ebda_b121_11ea_b20e_f82819e5b6a4row7_col0\" class=\"data row7 col0\" >Ordinal Features </td>\n",
       "                        <td id=\"T_49d4ebda_b121_11ea_b20e_f82819e5b6a4row7_col1\" class=\"data row7 col1\" >False</td>\n",
       "            </tr>\n",
       "            <tr>\n",
       "                        <th id=\"T_49d4ebda_b121_11ea_b20e_f82819e5b6a4level0_row8\" class=\"row_heading level0 row8\" >8</th>\n",
       "                        <td id=\"T_49d4ebda_b121_11ea_b20e_f82819e5b6a4row8_col0\" class=\"data row8 col0\" >High Cardinality Features </td>\n",
       "                        <td id=\"T_49d4ebda_b121_11ea_b20e_f82819e5b6a4row8_col1\" class=\"data row8 col1\" >False</td>\n",
       "            </tr>\n",
       "            <tr>\n",
       "                        <th id=\"T_49d4ebda_b121_11ea_b20e_f82819e5b6a4level0_row9\" class=\"row_heading level0 row9\" >9</th>\n",
       "                        <td id=\"T_49d4ebda_b121_11ea_b20e_f82819e5b6a4row9_col0\" class=\"data row9 col0\" >High Cardinality Method </td>\n",
       "                        <td id=\"T_49d4ebda_b121_11ea_b20e_f82819e5b6a4row9_col1\" class=\"data row9 col1\" >None</td>\n",
       "            </tr>\n",
       "            <tr>\n",
       "                        <th id=\"T_49d4ebda_b121_11ea_b20e_f82819e5b6a4level0_row10\" class=\"row_heading level0 row10\" >10</th>\n",
       "                        <td id=\"T_49d4ebda_b121_11ea_b20e_f82819e5b6a4row10_col0\" class=\"data row10 col0\" >Sampled Data</td>\n",
       "                        <td id=\"T_49d4ebda_b121_11ea_b20e_f82819e5b6a4row10_col1\" class=\"data row10 col1\" >(14999, 33)</td>\n",
       "            </tr>\n",
       "            <tr>\n",
       "                        <th id=\"T_49d4ebda_b121_11ea_b20e_f82819e5b6a4level0_row11\" class=\"row_heading level0 row11\" >11</th>\n",
       "                        <td id=\"T_49d4ebda_b121_11ea_b20e_f82819e5b6a4row11_col0\" class=\"data row11 col0\" >Transformed Train Set</td>\n",
       "                        <td id=\"T_49d4ebda_b121_11ea_b20e_f82819e5b6a4row11_col1\" class=\"data row11 col1\" >(10499, 32)</td>\n",
       "            </tr>\n",
       "            <tr>\n",
       "                        <th id=\"T_49d4ebda_b121_11ea_b20e_f82819e5b6a4level0_row12\" class=\"row_heading level0 row12\" >12</th>\n",
       "                        <td id=\"T_49d4ebda_b121_11ea_b20e_f82819e5b6a4row12_col0\" class=\"data row12 col0\" >Transformed Test Set</td>\n",
       "                        <td id=\"T_49d4ebda_b121_11ea_b20e_f82819e5b6a4row12_col1\" class=\"data row12 col1\" >(4500, 32)</td>\n",
       "            </tr>\n",
       "            <tr>\n",
       "                        <th id=\"T_49d4ebda_b121_11ea_b20e_f82819e5b6a4level0_row13\" class=\"row_heading level0 row13\" >13</th>\n",
       "                        <td id=\"T_49d4ebda_b121_11ea_b20e_f82819e5b6a4row13_col0\" class=\"data row13 col0\" >Numeric Imputer </td>\n",
       "                        <td id=\"T_49d4ebda_b121_11ea_b20e_f82819e5b6a4row13_col1\" class=\"data row13 col1\" >mean</td>\n",
       "            </tr>\n",
       "            <tr>\n",
       "                        <th id=\"T_49d4ebda_b121_11ea_b20e_f82819e5b6a4level0_row14\" class=\"row_heading level0 row14\" >14</th>\n",
       "                        <td id=\"T_49d4ebda_b121_11ea_b20e_f82819e5b6a4row14_col0\" class=\"data row14 col0\" >Categorical Imputer </td>\n",
       "                        <td id=\"T_49d4ebda_b121_11ea_b20e_f82819e5b6a4row14_col1\" class=\"data row14 col1\" >constant</td>\n",
       "            </tr>\n",
       "            <tr>\n",
       "                        <th id=\"T_49d4ebda_b121_11ea_b20e_f82819e5b6a4level0_row15\" class=\"row_heading level0 row15\" >15</th>\n",
       "                        <td id=\"T_49d4ebda_b121_11ea_b20e_f82819e5b6a4row15_col0\" class=\"data row15 col0\" >Normalize </td>\n",
       "                        <td id=\"T_49d4ebda_b121_11ea_b20e_f82819e5b6a4row15_col1\" class=\"data row15 col1\" >False</td>\n",
       "            </tr>\n",
       "            <tr>\n",
       "                        <th id=\"T_49d4ebda_b121_11ea_b20e_f82819e5b6a4level0_row16\" class=\"row_heading level0 row16\" >16</th>\n",
       "                        <td id=\"T_49d4ebda_b121_11ea_b20e_f82819e5b6a4row16_col0\" class=\"data row16 col0\" >Normalize Method </td>\n",
       "                        <td id=\"T_49d4ebda_b121_11ea_b20e_f82819e5b6a4row16_col1\" class=\"data row16 col1\" >None</td>\n",
       "            </tr>\n",
       "            <tr>\n",
       "                        <th id=\"T_49d4ebda_b121_11ea_b20e_f82819e5b6a4level0_row17\" class=\"row_heading level0 row17\" >17</th>\n",
       "                        <td id=\"T_49d4ebda_b121_11ea_b20e_f82819e5b6a4row17_col0\" class=\"data row17 col0\" >Transformation </td>\n",
       "                        <td id=\"T_49d4ebda_b121_11ea_b20e_f82819e5b6a4row17_col1\" class=\"data row17 col1\" >False</td>\n",
       "            </tr>\n",
       "            <tr>\n",
       "                        <th id=\"T_49d4ebda_b121_11ea_b20e_f82819e5b6a4level0_row18\" class=\"row_heading level0 row18\" >18</th>\n",
       "                        <td id=\"T_49d4ebda_b121_11ea_b20e_f82819e5b6a4row18_col0\" class=\"data row18 col0\" >Transformation Method </td>\n",
       "                        <td id=\"T_49d4ebda_b121_11ea_b20e_f82819e5b6a4row18_col1\" class=\"data row18 col1\" >None</td>\n",
       "            </tr>\n",
       "            <tr>\n",
       "                        <th id=\"T_49d4ebda_b121_11ea_b20e_f82819e5b6a4level0_row19\" class=\"row_heading level0 row19\" >19</th>\n",
       "                        <td id=\"T_49d4ebda_b121_11ea_b20e_f82819e5b6a4row19_col0\" class=\"data row19 col0\" >PCA </td>\n",
       "                        <td id=\"T_49d4ebda_b121_11ea_b20e_f82819e5b6a4row19_col1\" class=\"data row19 col1\" >False</td>\n",
       "            </tr>\n",
       "            <tr>\n",
       "                        <th id=\"T_49d4ebda_b121_11ea_b20e_f82819e5b6a4level0_row20\" class=\"row_heading level0 row20\" >20</th>\n",
       "                        <td id=\"T_49d4ebda_b121_11ea_b20e_f82819e5b6a4row20_col0\" class=\"data row20 col0\" >PCA Method </td>\n",
       "                        <td id=\"T_49d4ebda_b121_11ea_b20e_f82819e5b6a4row20_col1\" class=\"data row20 col1\" >None</td>\n",
       "            </tr>\n",
       "            <tr>\n",
       "                        <th id=\"T_49d4ebda_b121_11ea_b20e_f82819e5b6a4level0_row21\" class=\"row_heading level0 row21\" >21</th>\n",
       "                        <td id=\"T_49d4ebda_b121_11ea_b20e_f82819e5b6a4row21_col0\" class=\"data row21 col0\" >PCA Components </td>\n",
       "                        <td id=\"T_49d4ebda_b121_11ea_b20e_f82819e5b6a4row21_col1\" class=\"data row21 col1\" >None</td>\n",
       "            </tr>\n",
       "            <tr>\n",
       "                        <th id=\"T_49d4ebda_b121_11ea_b20e_f82819e5b6a4level0_row22\" class=\"row_heading level0 row22\" >22</th>\n",
       "                        <td id=\"T_49d4ebda_b121_11ea_b20e_f82819e5b6a4row22_col0\" class=\"data row22 col0\" >Ignore Low Variance </td>\n",
       "                        <td id=\"T_49d4ebda_b121_11ea_b20e_f82819e5b6a4row22_col1\" class=\"data row22 col1\" >False</td>\n",
       "            </tr>\n",
       "            <tr>\n",
       "                        <th id=\"T_49d4ebda_b121_11ea_b20e_f82819e5b6a4level0_row23\" class=\"row_heading level0 row23\" >23</th>\n",
       "                        <td id=\"T_49d4ebda_b121_11ea_b20e_f82819e5b6a4row23_col0\" class=\"data row23 col0\" >Combine Rare Levels </td>\n",
       "                        <td id=\"T_49d4ebda_b121_11ea_b20e_f82819e5b6a4row23_col1\" class=\"data row23 col1\" >False</td>\n",
       "            </tr>\n",
       "            <tr>\n",
       "                        <th id=\"T_49d4ebda_b121_11ea_b20e_f82819e5b6a4level0_row24\" class=\"row_heading level0 row24\" >24</th>\n",
       "                        <td id=\"T_49d4ebda_b121_11ea_b20e_f82819e5b6a4row24_col0\" class=\"data row24 col0\" >Rare Level Threshold </td>\n",
       "                        <td id=\"T_49d4ebda_b121_11ea_b20e_f82819e5b6a4row24_col1\" class=\"data row24 col1\" >None</td>\n",
       "            </tr>\n",
       "            <tr>\n",
       "                        <th id=\"T_49d4ebda_b121_11ea_b20e_f82819e5b6a4level0_row25\" class=\"row_heading level0 row25\" >25</th>\n",
       "                        <td id=\"T_49d4ebda_b121_11ea_b20e_f82819e5b6a4row25_col0\" class=\"data row25 col0\" >Numeric Binning </td>\n",
       "                        <td id=\"T_49d4ebda_b121_11ea_b20e_f82819e5b6a4row25_col1\" class=\"data row25 col1\" >False</td>\n",
       "            </tr>\n",
       "            <tr>\n",
       "                        <th id=\"T_49d4ebda_b121_11ea_b20e_f82819e5b6a4level0_row26\" class=\"row_heading level0 row26\" >26</th>\n",
       "                        <td id=\"T_49d4ebda_b121_11ea_b20e_f82819e5b6a4row26_col0\" class=\"data row26 col0\" >Remove Outliers </td>\n",
       "                        <td id=\"T_49d4ebda_b121_11ea_b20e_f82819e5b6a4row26_col1\" class=\"data row26 col1\" >False</td>\n",
       "            </tr>\n",
       "            <tr>\n",
       "                        <th id=\"T_49d4ebda_b121_11ea_b20e_f82819e5b6a4level0_row27\" class=\"row_heading level0 row27\" >27</th>\n",
       "                        <td id=\"T_49d4ebda_b121_11ea_b20e_f82819e5b6a4row27_col0\" class=\"data row27 col0\" >Outliers Threshold </td>\n",
       "                        <td id=\"T_49d4ebda_b121_11ea_b20e_f82819e5b6a4row27_col1\" class=\"data row27 col1\" >None</td>\n",
       "            </tr>\n",
       "            <tr>\n",
       "                        <th id=\"T_49d4ebda_b121_11ea_b20e_f82819e5b6a4level0_row28\" class=\"row_heading level0 row28\" >28</th>\n",
       "                        <td id=\"T_49d4ebda_b121_11ea_b20e_f82819e5b6a4row28_col0\" class=\"data row28 col0\" >Remove Multicollinearity </td>\n",
       "                        <td id=\"T_49d4ebda_b121_11ea_b20e_f82819e5b6a4row28_col1\" class=\"data row28 col1\" >False</td>\n",
       "            </tr>\n",
       "            <tr>\n",
       "                        <th id=\"T_49d4ebda_b121_11ea_b20e_f82819e5b6a4level0_row29\" class=\"row_heading level0 row29\" >29</th>\n",
       "                        <td id=\"T_49d4ebda_b121_11ea_b20e_f82819e5b6a4row29_col0\" class=\"data row29 col0\" >Multicollinearity Threshold </td>\n",
       "                        <td id=\"T_49d4ebda_b121_11ea_b20e_f82819e5b6a4row29_col1\" class=\"data row29 col1\" >None</td>\n",
       "            </tr>\n",
       "            <tr>\n",
       "                        <th id=\"T_49d4ebda_b121_11ea_b20e_f82819e5b6a4level0_row30\" class=\"row_heading level0 row30\" >30</th>\n",
       "                        <td id=\"T_49d4ebda_b121_11ea_b20e_f82819e5b6a4row30_col0\" class=\"data row30 col0\" >Clustering </td>\n",
       "                        <td id=\"T_49d4ebda_b121_11ea_b20e_f82819e5b6a4row30_col1\" class=\"data row30 col1\" >False</td>\n",
       "            </tr>\n",
       "            <tr>\n",
       "                        <th id=\"T_49d4ebda_b121_11ea_b20e_f82819e5b6a4level0_row31\" class=\"row_heading level0 row31\" >31</th>\n",
       "                        <td id=\"T_49d4ebda_b121_11ea_b20e_f82819e5b6a4row31_col0\" class=\"data row31 col0\" >Clustering Iteration </td>\n",
       "                        <td id=\"T_49d4ebda_b121_11ea_b20e_f82819e5b6a4row31_col1\" class=\"data row31 col1\" >None</td>\n",
       "            </tr>\n",
       "            <tr>\n",
       "                        <th id=\"T_49d4ebda_b121_11ea_b20e_f82819e5b6a4level0_row32\" class=\"row_heading level0 row32\" >32</th>\n",
       "                        <td id=\"T_49d4ebda_b121_11ea_b20e_f82819e5b6a4row32_col0\" class=\"data row32 col0\" >Polynomial Features </td>\n",
       "                        <td id=\"T_49d4ebda_b121_11ea_b20e_f82819e5b6a4row32_col1\" class=\"data row32 col1\" >False</td>\n",
       "            </tr>\n",
       "            <tr>\n",
       "                        <th id=\"T_49d4ebda_b121_11ea_b20e_f82819e5b6a4level0_row33\" class=\"row_heading level0 row33\" >33</th>\n",
       "                        <td id=\"T_49d4ebda_b121_11ea_b20e_f82819e5b6a4row33_col0\" class=\"data row33 col0\" >Polynomial Degree </td>\n",
       "                        <td id=\"T_49d4ebda_b121_11ea_b20e_f82819e5b6a4row33_col1\" class=\"data row33 col1\" >None</td>\n",
       "            </tr>\n",
       "            <tr>\n",
       "                        <th id=\"T_49d4ebda_b121_11ea_b20e_f82819e5b6a4level0_row34\" class=\"row_heading level0 row34\" >34</th>\n",
       "                        <td id=\"T_49d4ebda_b121_11ea_b20e_f82819e5b6a4row34_col0\" class=\"data row34 col0\" >Trignometry Features </td>\n",
       "                        <td id=\"T_49d4ebda_b121_11ea_b20e_f82819e5b6a4row34_col1\" class=\"data row34 col1\" >False</td>\n",
       "            </tr>\n",
       "            <tr>\n",
       "                        <th id=\"T_49d4ebda_b121_11ea_b20e_f82819e5b6a4level0_row35\" class=\"row_heading level0 row35\" >35</th>\n",
       "                        <td id=\"T_49d4ebda_b121_11ea_b20e_f82819e5b6a4row35_col0\" class=\"data row35 col0\" >Polynomial Threshold </td>\n",
       "                        <td id=\"T_49d4ebda_b121_11ea_b20e_f82819e5b6a4row35_col1\" class=\"data row35 col1\" >None</td>\n",
       "            </tr>\n",
       "            <tr>\n",
       "                        <th id=\"T_49d4ebda_b121_11ea_b20e_f82819e5b6a4level0_row36\" class=\"row_heading level0 row36\" >36</th>\n",
       "                        <td id=\"T_49d4ebda_b121_11ea_b20e_f82819e5b6a4row36_col0\" class=\"data row36 col0\" >Group Features </td>\n",
       "                        <td id=\"T_49d4ebda_b121_11ea_b20e_f82819e5b6a4row36_col1\" class=\"data row36 col1\" >False</td>\n",
       "            </tr>\n",
       "            <tr>\n",
       "                        <th id=\"T_49d4ebda_b121_11ea_b20e_f82819e5b6a4level0_row37\" class=\"row_heading level0 row37\" >37</th>\n",
       "                        <td id=\"T_49d4ebda_b121_11ea_b20e_f82819e5b6a4row37_col0\" class=\"data row37 col0\" >Feature Selection </td>\n",
       "                        <td id=\"T_49d4ebda_b121_11ea_b20e_f82819e5b6a4row37_col1\" class=\"data row37 col1\" >False</td>\n",
       "            </tr>\n",
       "            <tr>\n",
       "                        <th id=\"T_49d4ebda_b121_11ea_b20e_f82819e5b6a4level0_row38\" class=\"row_heading level0 row38\" >38</th>\n",
       "                        <td id=\"T_49d4ebda_b121_11ea_b20e_f82819e5b6a4row38_col0\" class=\"data row38 col0\" >Features Selection Threshold </td>\n",
       "                        <td id=\"T_49d4ebda_b121_11ea_b20e_f82819e5b6a4row38_col1\" class=\"data row38 col1\" >None</td>\n",
       "            </tr>\n",
       "            <tr>\n",
       "                        <th id=\"T_49d4ebda_b121_11ea_b20e_f82819e5b6a4level0_row39\" class=\"row_heading level0 row39\" >39</th>\n",
       "                        <td id=\"T_49d4ebda_b121_11ea_b20e_f82819e5b6a4row39_col0\" class=\"data row39 col0\" >Feature Interaction </td>\n",
       "                        <td id=\"T_49d4ebda_b121_11ea_b20e_f82819e5b6a4row39_col1\" class=\"data row39 col1\" >False</td>\n",
       "            </tr>\n",
       "            <tr>\n",
       "                        <th id=\"T_49d4ebda_b121_11ea_b20e_f82819e5b6a4level0_row40\" class=\"row_heading level0 row40\" >40</th>\n",
       "                        <td id=\"T_49d4ebda_b121_11ea_b20e_f82819e5b6a4row40_col0\" class=\"data row40 col0\" >Feature Ratio </td>\n",
       "                        <td id=\"T_49d4ebda_b121_11ea_b20e_f82819e5b6a4row40_col1\" class=\"data row40 col1\" >False</td>\n",
       "            </tr>\n",
       "            <tr>\n",
       "                        <th id=\"T_49d4ebda_b121_11ea_b20e_f82819e5b6a4level0_row41\" class=\"row_heading level0 row41\" >41</th>\n",
       "                        <td id=\"T_49d4ebda_b121_11ea_b20e_f82819e5b6a4row41_col0\" class=\"data row41 col0\" >Interaction Threshold </td>\n",
       "                        <td id=\"T_49d4ebda_b121_11ea_b20e_f82819e5b6a4row41_col1\" class=\"data row41 col1\" >None</td>\n",
       "            </tr>\n",
       "    </tbody></table>"
      ],
      "text/plain": [
       "<pandas.io.formats.style.Styler at 0x292c718ec08>"
      ]
     },
     "metadata": {},
     "output_type": "display_data"
    }
   ],
   "source": [
    "clf=setup(data=hr1,target=\"left\")"
   ]
  },
  {
   "cell_type": "code",
   "execution_count": 50,
   "metadata": {},
   "outputs": [
    {
     "data": {
      "text/html": [
       "<div>\n",
       "<style scoped>\n",
       "    .dataframe tbody tr th:only-of-type {\n",
       "        vertical-align: middle;\n",
       "    }\n",
       "\n",
       "    .dataframe tbody tr th {\n",
       "        vertical-align: top;\n",
       "    }\n",
       "\n",
       "    .dataframe thead th {\n",
       "        text-align: right;\n",
       "    }\n",
       "</style>\n",
       "<table border=\"1\" class=\"dataframe\">\n",
       "  <thead>\n",
       "    <tr style=\"text-align: right;\">\n",
       "      <th></th>\n",
       "      <th>Accuracy</th>\n",
       "      <th>AUC</th>\n",
       "      <th>Recall</th>\n",
       "      <th>Prec.</th>\n",
       "      <th>F1</th>\n",
       "      <th>Kappa</th>\n",
       "    </tr>\n",
       "  </thead>\n",
       "  <tbody>\n",
       "    <tr>\n",
       "      <th>0</th>\n",
       "      <td>0.9695</td>\n",
       "      <td>0.0</td>\n",
       "      <td>0.9040</td>\n",
       "      <td>0.9658</td>\n",
       "      <td>0.9339</td>\n",
       "      <td>0.9141</td>\n",
       "    </tr>\n",
       "    <tr>\n",
       "      <th>1</th>\n",
       "      <td>0.9686</td>\n",
       "      <td>0.0</td>\n",
       "      <td>0.9200</td>\n",
       "      <td>0.9465</td>\n",
       "      <td>0.9331</td>\n",
       "      <td>0.9125</td>\n",
       "    </tr>\n",
       "    <tr>\n",
       "      <th>2</th>\n",
       "      <td>0.9733</td>\n",
       "      <td>0.0</td>\n",
       "      <td>0.9160</td>\n",
       "      <td>0.9703</td>\n",
       "      <td>0.9424</td>\n",
       "      <td>0.9251</td>\n",
       "    </tr>\n",
       "    <tr>\n",
       "      <th>3</th>\n",
       "      <td>0.9771</td>\n",
       "      <td>0.0</td>\n",
       "      <td>0.9520</td>\n",
       "      <td>0.9520</td>\n",
       "      <td>0.9520</td>\n",
       "      <td>0.9370</td>\n",
       "    </tr>\n",
       "    <tr>\n",
       "      <th>4</th>\n",
       "      <td>0.9705</td>\n",
       "      <td>0.0</td>\n",
       "      <td>0.9120</td>\n",
       "      <td>0.9620</td>\n",
       "      <td>0.9363</td>\n",
       "      <td>0.9171</td>\n",
       "    </tr>\n",
       "    <tr>\n",
       "      <th>5</th>\n",
       "      <td>0.9705</td>\n",
       "      <td>0.0</td>\n",
       "      <td>0.9320</td>\n",
       "      <td>0.9433</td>\n",
       "      <td>0.9376</td>\n",
       "      <td>0.9183</td>\n",
       "    </tr>\n",
       "    <tr>\n",
       "      <th>6</th>\n",
       "      <td>0.9762</td>\n",
       "      <td>0.0</td>\n",
       "      <td>0.9400</td>\n",
       "      <td>0.9592</td>\n",
       "      <td>0.9495</td>\n",
       "      <td>0.9339</td>\n",
       "    </tr>\n",
       "    <tr>\n",
       "      <th>7</th>\n",
       "      <td>0.9762</td>\n",
       "      <td>0.0</td>\n",
       "      <td>0.9200</td>\n",
       "      <td>0.9787</td>\n",
       "      <td>0.9485</td>\n",
       "      <td>0.9330</td>\n",
       "    </tr>\n",
       "    <tr>\n",
       "      <th>8</th>\n",
       "      <td>0.9752</td>\n",
       "      <td>0.0</td>\n",
       "      <td>0.9400</td>\n",
       "      <td>0.9553</td>\n",
       "      <td>0.9476</td>\n",
       "      <td>0.9314</td>\n",
       "    </tr>\n",
       "    <tr>\n",
       "      <th>9</th>\n",
       "      <td>0.9743</td>\n",
       "      <td>0.0</td>\n",
       "      <td>0.9200</td>\n",
       "      <td>0.9705</td>\n",
       "      <td>0.9446</td>\n",
       "      <td>0.9278</td>\n",
       "    </tr>\n",
       "    <tr>\n",
       "      <th>Mean</th>\n",
       "      <td>0.9731</td>\n",
       "      <td>0.0</td>\n",
       "      <td>0.9256</td>\n",
       "      <td>0.9604</td>\n",
       "      <td>0.9425</td>\n",
       "      <td>0.9250</td>\n",
       "    </tr>\n",
       "    <tr>\n",
       "      <th>SD</th>\n",
       "      <td>0.0030</td>\n",
       "      <td>0.0</td>\n",
       "      <td>0.0141</td>\n",
       "      <td>0.0107</td>\n",
       "      <td>0.0066</td>\n",
       "      <td>0.0085</td>\n",
       "    </tr>\n",
       "  </tbody>\n",
       "</table>\n",
       "</div>"
      ],
      "text/plain": [
       "      Accuracy  AUC  Recall   Prec.      F1   Kappa\n",
       "0       0.9695  0.0  0.9040  0.9658  0.9339  0.9141\n",
       "1       0.9686  0.0  0.9200  0.9465  0.9331  0.9125\n",
       "2       0.9733  0.0  0.9160  0.9703  0.9424  0.9251\n",
       "3       0.9771  0.0  0.9520  0.9520  0.9520  0.9370\n",
       "4       0.9705  0.0  0.9120  0.9620  0.9363  0.9171\n",
       "5       0.9705  0.0  0.9320  0.9433  0.9376  0.9183\n",
       "6       0.9762  0.0  0.9400  0.9592  0.9495  0.9339\n",
       "7       0.9762  0.0  0.9200  0.9787  0.9485  0.9330\n",
       "8       0.9752  0.0  0.9400  0.9553  0.9476  0.9314\n",
       "9       0.9743  0.0  0.9200  0.9705  0.9446  0.9278\n",
       "Mean    0.9731  0.0  0.9256  0.9604  0.9425  0.9250\n",
       "SD      0.0030  0.0  0.0141  0.0107  0.0066  0.0085"
      ]
     },
     "metadata": {},
     "output_type": "display_data"
    }
   ],
   "source": [
    "bd=blend_models()"
   ]
  },
  {
   "cell_type": "code",
   "execution_count": 51,
   "metadata": {},
   "outputs": [
    {
     "data": {
      "text/plain": [
       "array([0, 1], dtype=int64)"
      ]
     },
     "execution_count": 51,
     "metadata": {},
     "output_type": "execute_result"
    }
   ],
   "source": [
    "bd.classes_"
   ]
  },
  {
   "cell_type": "code",
   "execution_count": 52,
   "metadata": {},
   "outputs": [
    {
     "data": {
      "text/plain": [
       "[QuadraticDiscriminantAnalysis(priors=None, reg_param=0.0,\n",
       "                               store_covariance=False, tol=0.0001),\n",
       " RandomForestClassifier(bootstrap=True, ccp_alpha=0.0, class_weight=None,\n",
       "                        criterion='gini', max_depth=None, max_features='auto',\n",
       "                        max_leaf_nodes=None, max_samples=None,\n",
       "                        min_impurity_decrease=0.0, min_impurity_split=None,\n",
       "                        min_samples_leaf=1, min_samples_split=2,\n",
       "                        min_weight_fraction_leaf=0.0, n_estimators=10,\n",
       "                        n_jobs=None, oob_score=False, random_state=6859,\n",
       "                        verbose=0, warm_start=False),\n",
       " DecisionTreeClassifier(ccp_alpha=0.0, class_weight=None, criterion='gini',\n",
       "                        max_depth=None, max_features=None, max_leaf_nodes=None,\n",
       "                        min_impurity_decrease=0.0, min_impurity_split=None,\n",
       "                        min_samples_leaf=1, min_samples_split=2,\n",
       "                        min_weight_fraction_leaf=0.0, presort='deprecated',\n",
       "                        random_state=6859, splitter='best'),\n",
       " AdaBoostClassifier(algorithm='SAMME.R', base_estimator=None, learning_rate=1.0,\n",
       "                    n_estimators=50, random_state=6859),\n",
       " LGBMClassifier(boosting_type='gbdt', class_weight=None, colsample_bytree=1.0,\n",
       "                importance_type='split', learning_rate=0.1, max_depth=-1,\n",
       "                min_child_samples=20, min_child_weight=0.001, min_split_gain=0.0,\n",
       "                n_estimators=100, n_jobs=-1, num_leaves=31, objective=None,\n",
       "                random_state=6859, reg_alpha=0.0, reg_lambda=0.0, silent=True,\n",
       "                subsample=1.0, subsample_for_bin=200000, subsample_freq=0),\n",
       " ExtraTreesClassifier(bootstrap=False, ccp_alpha=0.0, class_weight=None,\n",
       "                      criterion='gini', max_depth=None, max_features='auto',\n",
       "                      max_leaf_nodes=None, max_samples=None,\n",
       "                      min_impurity_decrease=0.0, min_impurity_split=None,\n",
       "                      min_samples_leaf=1, min_samples_split=2,\n",
       "                      min_weight_fraction_leaf=0.0, n_estimators=100,\n",
       "                      n_jobs=None, oob_score=False, random_state=6859, verbose=0,\n",
       "                      warm_start=False),\n",
       " RidgeClassifier(alpha=1.0, class_weight=None, copy_X=True, fit_intercept=True,\n",
       "                 max_iter=None, normalize=False, random_state=6859,\n",
       "                 solver='auto', tol=0.001),\n",
       " GradientBoostingClassifier(ccp_alpha=0.0, criterion='friedman_mse', init=None,\n",
       "                            learning_rate=0.1, loss='deviance', max_depth=3,\n",
       "                            max_features=None, max_leaf_nodes=None,\n",
       "                            min_impurity_decrease=0.0, min_impurity_split=None,\n",
       "                            min_samples_leaf=1, min_samples_split=2,\n",
       "                            min_weight_fraction_leaf=0.0, n_estimators=100,\n",
       "                            n_iter_no_change=None, presort='deprecated',\n",
       "                            random_state=6859, subsample=1.0, tol=0.0001,\n",
       "                            validation_fraction=0.1, verbose=0,\n",
       "                            warm_start=False),\n",
       " GaussianNB(priors=None, var_smoothing=1e-09),\n",
       " SGDClassifier(alpha=0.0001, average=False, class_weight=None,\n",
       "               early_stopping=False, epsilon=0.1, eta0=0.0, fit_intercept=True,\n",
       "               l1_ratio=0.15, learning_rate='optimal', loss='hinge',\n",
       "               max_iter=1000, n_iter_no_change=5, n_jobs=None, penalty='l2',\n",
       "               power_t=0.5, random_state=6859, shuffle=True, tol=0.001,\n",
       "               validation_fraction=0.1, verbose=0, warm_start=False),\n",
       " LinearDiscriminantAnalysis(n_components=None, priors=None, shrinkage=None,\n",
       "                            solver='svd', store_covariance=False, tol=0.0001),\n",
       " LogisticRegression(C=1.0, class_weight=None, dual=False, fit_intercept=True,\n",
       "                    intercept_scaling=1, l1_ratio=None, max_iter=100,\n",
       "                    multi_class='auto', n_jobs=None, penalty='l2',\n",
       "                    random_state=6859, solver='lbfgs', tol=0.0001, verbose=0,\n",
       "                    warm_start=False),\n",
       " KNeighborsClassifier(algorithm='auto', leaf_size=30, metric='minkowski',\n",
       "                      metric_params=None, n_jobs=None, n_neighbors=5, p=2,\n",
       "                      weights='uniform'),\n",
       " XGBClassifier(base_score=0.5, booster='gbtree', colsample_bylevel=1,\n",
       "               colsample_bynode=1, colsample_bytree=1, gamma=0,\n",
       "               learning_rate=0.1, max_delta_step=0, max_depth=3,\n",
       "               min_child_weight=1, missing=None, n_estimators=100, n_jobs=-1,\n",
       "               nthread=None, objective='binary:logistic', random_state=6859,\n",
       "               reg_alpha=0, reg_lambda=1, scale_pos_weight=1, seed=None,\n",
       "               silent=None, subsample=1, verbosity=0)]"
      ]
     },
     "execution_count": 52,
     "metadata": {},
     "output_type": "execute_result"
    }
   ],
   "source": [
    "bd.estimators_"
   ]
  },
  {
   "cell_type": "code",
   "execution_count": null,
   "metadata": {},
   "outputs": [],
   "source": []
  }
 ],
 "metadata": {
  "kernelspec": {
   "display_name": "Python 3",
   "language": "python",
   "name": "python3"
  },
  "language_info": {
   "codemirror_mode": {
    "name": "ipython",
    "version": 3
   },
   "file_extension": ".py",
   "mimetype": "text/x-python",
   "name": "python",
   "nbconvert_exporter": "python",
   "pygments_lexer": "ipython3",
   "version": "3.7.6"
  }
 },
 "nbformat": 4,
 "nbformat_minor": 4
}
