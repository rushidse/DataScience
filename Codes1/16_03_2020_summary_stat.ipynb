{
 "cells": [
  {
   "cell_type": "code",
   "execution_count": 1,
   "metadata": {},
   "outputs": [],
   "source": [
    "import numpy as np\n",
    "import pandas as pd"
   ]
  },
  {
   "cell_type": "code",
   "execution_count": 2,
   "metadata": {},
   "outputs": [],
   "source": [
    "air=pd.read_csv(r\"C:\\ksr\\data science\\DS_batch1\\datasets\\AirPassengers.csv\")"
   ]
  },
  {
   "cell_type": "code",
   "execution_count": 3,
   "metadata": {},
   "outputs": [
    {
     "data": {
      "text/plain": [
       "(80, 9)"
      ]
     },
     "execution_count": 3,
     "metadata": {},
     "output_type": "execute_result"
    }
   ],
   "source": [
    "air.shape"
   ]
  },
  {
   "cell_type": "code",
   "execution_count": 4,
   "metadata": {},
   "outputs": [
    {
     "data": {
      "text/html": [
       "<div>\n",
       "<style scoped>\n",
       "    .dataframe tbody tr th:only-of-type {\n",
       "        vertical-align: middle;\n",
       "    }\n",
       "\n",
       "    .dataframe tbody tr th {\n",
       "        vertical-align: top;\n",
       "    }\n",
       "\n",
       "    .dataframe thead th {\n",
       "        text-align: right;\n",
       "    }\n",
       "</style>\n",
       "<table border=\"1\" class=\"dataframe\">\n",
       "  <thead>\n",
       "    <tr style=\"text-align: right;\">\n",
       "      <th></th>\n",
       "      <th>Week_num</th>\n",
       "      <th>Passengers</th>\n",
       "      <th>Promotion_Budget</th>\n",
       "      <th>Service_Quality_Score</th>\n",
       "      <th>Holiday_week</th>\n",
       "      <th>Delayed_Cancelled_flight_ind</th>\n",
       "      <th>Inter_metro_flight_ratio</th>\n",
       "      <th>Bad_Weather_Ind</th>\n",
       "      <th>Technical_issues_ind</th>\n",
       "    </tr>\n",
       "  </thead>\n",
       "  <tbody>\n",
       "    <tr>\n",
       "      <th>0</th>\n",
       "      <td>1</td>\n",
       "      <td>37824</td>\n",
       "      <td>517356</td>\n",
       "      <td>4.00000</td>\n",
       "      <td>NO</td>\n",
       "      <td>NO</td>\n",
       "      <td>0.70</td>\n",
       "      <td>YES</td>\n",
       "      <td>YES</td>\n",
       "    </tr>\n",
       "    <tr>\n",
       "      <th>1</th>\n",
       "      <td>2</td>\n",
       "      <td>43936</td>\n",
       "      <td>646086</td>\n",
       "      <td>2.67466</td>\n",
       "      <td>NO</td>\n",
       "      <td>YES</td>\n",
       "      <td>0.80</td>\n",
       "      <td>YES</td>\n",
       "      <td>YES</td>\n",
       "    </tr>\n",
       "    <tr>\n",
       "      <th>2</th>\n",
       "      <td>3</td>\n",
       "      <td>42896</td>\n",
       "      <td>638330</td>\n",
       "      <td>3.29473</td>\n",
       "      <td>NO</td>\n",
       "      <td>NO</td>\n",
       "      <td>0.90</td>\n",
       "      <td>NO</td>\n",
       "      <td>NO</td>\n",
       "    </tr>\n",
       "    <tr>\n",
       "      <th>3</th>\n",
       "      <td>4</td>\n",
       "      <td>35792</td>\n",
       "      <td>506492</td>\n",
       "      <td>3.85684</td>\n",
       "      <td>NO</td>\n",
       "      <td>NO</td>\n",
       "      <td>0.40</td>\n",
       "      <td>NO</td>\n",
       "      <td>NO</td>\n",
       "    </tr>\n",
       "    <tr>\n",
       "      <th>4</th>\n",
       "      <td>5</td>\n",
       "      <td>38624</td>\n",
       "      <td>609658</td>\n",
       "      <td>3.90757</td>\n",
       "      <td>NO</td>\n",
       "      <td>NO</td>\n",
       "      <td>0.87</td>\n",
       "      <td>NO</td>\n",
       "      <td>YES</td>\n",
       "    </tr>\n",
       "  </tbody>\n",
       "</table>\n",
       "</div>"
      ],
      "text/plain": [
       "   Week_num  Passengers  Promotion_Budget  Service_Quality_Score Holiday_week  \\\n",
       "0         1       37824            517356                4.00000           NO   \n",
       "1         2       43936            646086                2.67466           NO   \n",
       "2         3       42896            638330                3.29473           NO   \n",
       "3         4       35792            506492                3.85684           NO   \n",
       "4         5       38624            609658                3.90757           NO   \n",
       "\n",
       "  Delayed_Cancelled_flight_ind  Inter_metro_flight_ratio Bad_Weather_Ind  \\\n",
       "0                           NO                      0.70             YES   \n",
       "1                          YES                      0.80             YES   \n",
       "2                           NO                      0.90              NO   \n",
       "3                           NO                      0.40              NO   \n",
       "4                           NO                      0.87              NO   \n",
       "\n",
       "  Technical_issues_ind  \n",
       "0                  YES  \n",
       "1                  YES  \n",
       "2                   NO  \n",
       "3                   NO  \n",
       "4                  YES  "
      ]
     },
     "execution_count": 4,
     "metadata": {},
     "output_type": "execute_result"
    }
   ],
   "source": [
    "air.head()"
   ]
  },
  {
   "cell_type": "code",
   "execution_count": 18,
   "metadata": {},
   "outputs": [],
   "source": [
    "def numerical_summary(data):\n",
    "    data1=data.drop_duplicates(keep=\"first\")\n",
    "    sumry_stat=data1.describe().T\n",
    "    sumry_stat[\"5%\"]=data1.quantile(0.05)\n",
    "    sumry_stat[\"missing%\"]=(len(data1)-sumry_stat[\"count\"])/len(data1)*100\n",
    "    sumry_stat1=sumry_stat[[\"count\",\"min\",\"5%\",\"25%\",\"50%\",\"mean\",\"75%\",\"max\",\"std\",\"missing%\"]]\n",
    "    return sumry_stat1\n",
    "    "
   ]
  },
  {
   "cell_type": "code",
   "execution_count": 19,
   "metadata": {},
   "outputs": [
    {
     "data": {
      "text/html": [
       "<div>\n",
       "<style scoped>\n",
       "    .dataframe tbody tr th:only-of-type {\n",
       "        vertical-align: middle;\n",
       "    }\n",
       "\n",
       "    .dataframe tbody tr th {\n",
       "        vertical-align: top;\n",
       "    }\n",
       "\n",
       "    .dataframe thead th {\n",
       "        text-align: right;\n",
       "    }\n",
       "</style>\n",
       "<table border=\"1\" class=\"dataframe\">\n",
       "  <thead>\n",
       "    <tr style=\"text-align: right;\">\n",
       "      <th></th>\n",
       "      <th>count</th>\n",
       "      <th>min</th>\n",
       "      <th>5%</th>\n",
       "      <th>25%</th>\n",
       "      <th>50%</th>\n",
       "      <th>mean</th>\n",
       "      <th>75%</th>\n",
       "      <th>max</th>\n",
       "      <th>std</th>\n",
       "      <th>missing%</th>\n",
       "    </tr>\n",
       "  </thead>\n",
       "  <tbody>\n",
       "    <tr>\n",
       "      <th>Week_num</th>\n",
       "      <td>80.0</td>\n",
       "      <td>1.00000</td>\n",
       "      <td>4.950000</td>\n",
       "      <td>20.75000</td>\n",
       "      <td>40.50000</td>\n",
       "      <td>40.500000</td>\n",
       "      <td>60.250000</td>\n",
       "      <td>80.0</td>\n",
       "      <td>23.237900</td>\n",
       "      <td>0.0</td>\n",
       "    </tr>\n",
       "    <tr>\n",
       "      <th>Passengers</th>\n",
       "      <td>80.0</td>\n",
       "      <td>28700.00000</td>\n",
       "      <td>32259.300000</td>\n",
       "      <td>36424.00000</td>\n",
       "      <td>43144.00000</td>\n",
       "      <td>44745.025000</td>\n",
       "      <td>48864.000000</td>\n",
       "      <td>81228.0</td>\n",
       "      <td>11267.155215</td>\n",
       "      <td>0.0</td>\n",
       "    </tr>\n",
       "    <tr>\n",
       "      <th>Promotion_Budget</th>\n",
       "      <td>80.0</td>\n",
       "      <td>365680.00000</td>\n",
       "      <td>416261.300000</td>\n",
       "      <td>517891.50000</td>\n",
       "      <td>597919.00000</td>\n",
       "      <td>625422.350000</td>\n",
       "      <td>688593.500000</td>\n",
       "      <td>1108254.0</td>\n",
       "      <td>156514.349317</td>\n",
       "      <td>0.0</td>\n",
       "    </tr>\n",
       "    <tr>\n",
       "      <th>Service_Quality_Score</th>\n",
       "      <td>80.0</td>\n",
       "      <td>0.85536</td>\n",
       "      <td>0.977124</td>\n",
       "      <td>1.93158</td>\n",
       "      <td>3.10812</td>\n",
       "      <td>2.781168</td>\n",
       "      <td>3.608883</td>\n",
       "      <td>4.0</td>\n",
       "      <td>1.000204</td>\n",
       "      <td>0.0</td>\n",
       "    </tr>\n",
       "    <tr>\n",
       "      <th>Inter_metro_flight_ratio</th>\n",
       "      <td>80.0</td>\n",
       "      <td>0.38000</td>\n",
       "      <td>0.400000</td>\n",
       "      <td>0.61000</td>\n",
       "      <td>0.72000</td>\n",
       "      <td>0.693000</td>\n",
       "      <td>0.802500</td>\n",
       "      <td>0.9</td>\n",
       "      <td>0.158045</td>\n",
       "      <td>0.0</td>\n",
       "    </tr>\n",
       "  </tbody>\n",
       "</table>\n",
       "</div>"
      ],
      "text/plain": [
       "                          count           min             5%           25%  \\\n",
       "Week_num                   80.0       1.00000       4.950000      20.75000   \n",
       "Passengers                 80.0   28700.00000   32259.300000   36424.00000   \n",
       "Promotion_Budget           80.0  365680.00000  416261.300000  517891.50000   \n",
       "Service_Quality_Score      80.0       0.85536       0.977124       1.93158   \n",
       "Inter_metro_flight_ratio   80.0       0.38000       0.400000       0.61000   \n",
       "\n",
       "                                   50%           mean            75%  \\\n",
       "Week_num                      40.50000      40.500000      60.250000   \n",
       "Passengers                 43144.00000   44745.025000   48864.000000   \n",
       "Promotion_Budget          597919.00000  625422.350000  688593.500000   \n",
       "Service_Quality_Score          3.10812       2.781168       3.608883   \n",
       "Inter_metro_flight_ratio       0.72000       0.693000       0.802500   \n",
       "\n",
       "                                max            std  missing%  \n",
       "Week_num                       80.0      23.237900       0.0  \n",
       "Passengers                  81228.0   11267.155215       0.0  \n",
       "Promotion_Budget          1108254.0  156514.349317       0.0  \n",
       "Service_Quality_Score           4.0       1.000204       0.0  \n",
       "Inter_metro_flight_ratio        0.9       0.158045       0.0  "
      ]
     },
     "execution_count": 19,
     "metadata": {},
     "output_type": "execute_result"
    }
   ],
   "source": [
    "numerical_summary(data=air)"
   ]
  },
  {
   "cell_type": "code",
   "execution_count": 51,
   "metadata": {},
   "outputs": [
    {
     "ename": "IndentationError",
     "evalue": "unexpected indent (<ipython-input-51-ad186916756f>, line 11)",
     "output_type": "error",
     "traceback": [
      "\u001b[1;36m  File \u001b[1;32m\"<ipython-input-51-ad186916756f>\"\u001b[1;36m, line \u001b[1;32m11\u001b[0m\n\u001b[1;33m    print(\"frequnecy for a varaible\",i)\u001b[0m\n\u001b[1;37m    ^\u001b[0m\n\u001b[1;31mIndentationError\u001b[0m\u001b[1;31m:\u001b[0m unexpected indent\n"
     ]
    }
   ],
   "source": [
    "def char_summary_stat(data):\n",
    "    data1=data.drop_duplicates(keep=\"first\")\n",
    "    col=list(data1.columns)\n",
    "    for i in col:\n",
    "        if data1[i].dtypes==\"object\":\n",
    "            abc=pd.DataFrame((data1[i].value_counts())/len(data1)*100).reset_index()\n",
    "            abc.rename(columns={abc.columns[0]:i,\n",
    "                                abc.columns[1]:abc.columns[1]+\"_percent\"}\n",
    "                               ,inplace=True)\n",
    "        abc.to_csv(\"C:\\\\ksr\\\\data science\\\\DS_batch1\\\\Practical_dataset\\\\sumary_stat.csv\")\n",
    "            print(\"frequnecy for a varaible\",i)\n",
    "            print(abc)\n",
    "            print(\"\\n\")"
   ]
  },
  {
   "cell_type": "code",
   "execution_count": 52,
   "metadata": {},
   "outputs": [
    {
     "name": "stdout",
     "output_type": "stream",
     "text": [
      "frequnecy for a varaible Holiday_week\n",
      "  Holiday_week  Holiday_week_percent\n",
      "0           NO                 76.25\n",
      "1          YES                 23.75\n",
      "\n",
      "\n",
      "frequnecy for a varaible Delayed_Cancelled_flight_ind\n",
      "  Delayed_Cancelled_flight_ind  Delayed_Cancelled_flight_ind_percent\n",
      "0                          YES                                 51.25\n",
      "1                           NO                                 48.75\n",
      "\n",
      "\n",
      "frequnecy for a varaible Bad_Weather_Ind\n",
      "  Bad_Weather_Ind  Bad_Weather_Ind_percent\n",
      "0             YES                     50.0\n",
      "1              NO                     50.0\n",
      "\n",
      "\n",
      "frequnecy for a varaible Technical_issues_ind\n",
      "  Technical_issues_ind  Technical_issues_ind_percent\n",
      "0                   NO                          52.5\n",
      "1                  YES                          47.5\n",
      "\n",
      "\n"
     ]
    }
   ],
   "source": [
    "char_summary_stat(data=air)"
   ]
  },
  {
   "cell_type": "code",
   "execution_count": null,
   "metadata": {},
   "outputs": [],
   "source": []
  }
 ],
 "metadata": {
  "kernelspec": {
   "display_name": "Python 3",
   "language": "python",
   "name": "python3"
  },
  "language_info": {
   "codemirror_mode": {
    "name": "ipython",
    "version": 3
   },
   "file_extension": ".py",
   "mimetype": "text/x-python",
   "name": "python",
   "nbconvert_exporter": "python",
   "pygments_lexer": "ipython3",
   "version": "3.6.5"
  }
 },
 "nbformat": 4,
 "nbformat_minor": 2
}
