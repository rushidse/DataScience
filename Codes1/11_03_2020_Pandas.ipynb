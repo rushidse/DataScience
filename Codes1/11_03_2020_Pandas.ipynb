{
 "cells": [
  {
   "cell_type": "code",
   "execution_count": 1,
   "metadata": {},
   "outputs": [],
   "source": [
    "import numpy as np\n",
    "import pandas as pd"
   ]
  },
  {
   "cell_type": "code",
   "execution_count": 2,
   "metadata": {},
   "outputs": [],
   "source": [
    "bank=pd.read_csv(r\"C:\\ksr\\data science\\DS_batch1\\datasets\\bank_market.csv\")"
   ]
  },
  {
   "cell_type": "code",
   "execution_count": 3,
   "metadata": {},
   "outputs": [
    {
     "data": {
      "text/plain": [
       "(45211, 18)"
      ]
     },
     "execution_count": 3,
     "metadata": {},
     "output_type": "execute_result"
    }
   ],
   "source": [
    "bank.shape"
   ]
  },
  {
   "cell_type": "code",
   "execution_count": 4,
   "metadata": {},
   "outputs": [
    {
     "data": {
      "text/plain": [
       "Index(['Cust_num', 'age', 'job', 'marital', 'education', 'default', 'balance',\n",
       "       'housing', 'loan', 'contact', 'day', 'month', 'duration', 'campaign',\n",
       "       'pdays', 'previous', 'poutcome', 'y'],\n",
       "      dtype='object')"
      ]
     },
     "execution_count": 4,
     "metadata": {},
     "output_type": "execute_result"
    }
   ],
   "source": [
    "bank.columns"
   ]
  },
  {
   "cell_type": "code",
   "execution_count": 5,
   "metadata": {},
   "outputs": [
    {
     "data": {
      "text/plain": [
       "married     27214\n",
       "single      12790\n",
       "divorced     5207\n",
       "Name: marital, dtype: int64"
      ]
     },
     "execution_count": 5,
     "metadata": {},
     "output_type": "execute_result"
    }
   ],
   "source": [
    "bank[\"marital\"].value_counts() #frequnecy for categorical variables"
   ]
  },
  {
   "cell_type": "code",
   "execution_count": 6,
   "metadata": {},
   "outputs": [
    {
     "data": {
      "text/plain": [
       "(12790, 18)"
      ]
     },
     "execution_count": 6,
     "metadata": {},
     "output_type": "execute_result"
    }
   ],
   "source": [
    "bank1=bank[bank[\"marital\"]==\"single\"]\n",
    "bank1.shape"
   ]
  },
  {
   "cell_type": "code",
   "execution_count": 8,
   "metadata": {},
   "outputs": [
    {
     "data": {
      "text/plain": [
       "(17997, 18)"
      ]
     },
     "execution_count": 8,
     "metadata": {},
     "output_type": "execute_result"
    }
   ],
   "source": [
    "bank1=bank[(bank[\"marital\"]==\"single\")|(bank[\"marital\"]==\"divorced\")]\n",
    "bank1.shape"
   ]
  },
  {
   "cell_type": "code",
   "execution_count": 9,
   "metadata": {},
   "outputs": [
    {
     "data": {
      "text/plain": [
       "Index(['Cust_num', 'age', 'job', 'marital', 'education', 'default', 'balance',\n",
       "       'housing', 'loan', 'contact', 'day', 'month', 'duration', 'campaign',\n",
       "       'pdays', 'previous', 'poutcome', 'y'],\n",
       "      dtype='object')"
      ]
     },
     "execution_count": 9,
     "metadata": {},
     "output_type": "execute_result"
    }
   ],
   "source": [
    "bank.columns"
   ]
  },
  {
   "cell_type": "code",
   "execution_count": 11,
   "metadata": {},
   "outputs": [
    {
     "data": {
      "text/plain": [
       "(1136, 18)"
      ]
     },
     "execution_count": 11,
     "metadata": {},
     "output_type": "execute_result"
    }
   ],
   "source": [
    "bank1=bank[bank[\"age\"]==44]\n",
    "bank1.shape"
   ]
  },
  {
   "cell_type": "code",
   "execution_count": 12,
   "metadata": {},
   "outputs": [
    {
     "data": {
      "text/plain": [
       "(1947, 18)"
      ]
     },
     "execution_count": 12,
     "metadata": {},
     "output_type": "execute_result"
    }
   ],
   "source": [
    "bank1=bank[(bank[\"age\"]==44)|(bank[\"age\"]==54)]\n",
    "bank1.shape"
   ]
  },
  {
   "cell_type": "code",
   "execution_count": 15,
   "metadata": {},
   "outputs": [
    {
     "data": {
      "text/plain": [
       "(347, 18)"
      ]
     },
     "execution_count": 15,
     "metadata": {},
     "output_type": "execute_result"
    }
   ],
   "source": [
    "bank1=bank[(bank[\"age\"]>40)&(bank[\"default\"]==\"yes\")]\n",
    "bank1.shape"
   ]
  },
  {
   "cell_type": "code",
   "execution_count": 16,
   "metadata": {},
   "outputs": [
    {
     "data": {
      "text/plain": [
       "(1610, 18)"
      ]
     },
     "execution_count": 16,
     "metadata": {},
     "output_type": "execute_result"
    }
   ],
   "source": [
    "bank2=bank[(bank[\"age\"]>40)&(bank[\"balance\"]<0)]\n",
    "bank2.shape"
   ]
  },
  {
   "cell_type": "code",
   "execution_count": 17,
   "metadata": {},
   "outputs": [],
   "source": [
    "bank1=bank[bank[\"age\"].isin([44,54,60])]"
   ]
  },
  {
   "cell_type": "code",
   "execution_count": 18,
   "metadata": {},
   "outputs": [
    {
     "data": {
      "text/plain": [
       "(2543, 18)"
      ]
     },
     "execution_count": 18,
     "metadata": {},
     "output_type": "execute_result"
    }
   ],
   "source": [
    "bank1.shape"
   ]
  },
  {
   "cell_type": "code",
   "execution_count": 21,
   "metadata": {},
   "outputs": [
    {
     "data": {
      "text/html": [
       "<div>\n",
       "<style scoped>\n",
       "    .dataframe tbody tr th:only-of-type {\n",
       "        vertical-align: middle;\n",
       "    }\n",
       "\n",
       "    .dataframe tbody tr th {\n",
       "        vertical-align: top;\n",
       "    }\n",
       "\n",
       "    .dataframe thead th {\n",
       "        text-align: right;\n",
       "    }\n",
       "</style>\n",
       "<table border=\"1\" class=\"dataframe\">\n",
       "  <thead>\n",
       "    <tr style=\"text-align: right;\">\n",
       "      <th></th>\n",
       "      <th>count</th>\n",
       "      <th>mean</th>\n",
       "      <th>std</th>\n",
       "      <th>min</th>\n",
       "      <th>25%</th>\n",
       "      <th>50%</th>\n",
       "      <th>75%</th>\n",
       "      <th>max</th>\n",
       "    </tr>\n",
       "  </thead>\n",
       "  <tbody>\n",
       "    <tr>\n",
       "      <th>Cust_num</th>\n",
       "      <td>45211.0</td>\n",
       "      <td>22606.000000</td>\n",
       "      <td>13051.435847</td>\n",
       "      <td>1.0</td>\n",
       "      <td>11303.5</td>\n",
       "      <td>22606.0</td>\n",
       "      <td>33908.5</td>\n",
       "      <td>45211.0</td>\n",
       "    </tr>\n",
       "    <tr>\n",
       "      <th>age</th>\n",
       "      <td>45211.0</td>\n",
       "      <td>40.936210</td>\n",
       "      <td>10.618762</td>\n",
       "      <td>18.0</td>\n",
       "      <td>33.0</td>\n",
       "      <td>39.0</td>\n",
       "      <td>48.0</td>\n",
       "      <td>95.0</td>\n",
       "    </tr>\n",
       "    <tr>\n",
       "      <th>balance</th>\n",
       "      <td>45211.0</td>\n",
       "      <td>1362.272058</td>\n",
       "      <td>3044.765829</td>\n",
       "      <td>-8019.0</td>\n",
       "      <td>72.0</td>\n",
       "      <td>448.0</td>\n",
       "      <td>1428.0</td>\n",
       "      <td>102127.0</td>\n",
       "    </tr>\n",
       "    <tr>\n",
       "      <th>day</th>\n",
       "      <td>45211.0</td>\n",
       "      <td>15.806419</td>\n",
       "      <td>8.322476</td>\n",
       "      <td>1.0</td>\n",
       "      <td>8.0</td>\n",
       "      <td>16.0</td>\n",
       "      <td>21.0</td>\n",
       "      <td>31.0</td>\n",
       "    </tr>\n",
       "    <tr>\n",
       "      <th>duration</th>\n",
       "      <td>45211.0</td>\n",
       "      <td>258.163080</td>\n",
       "      <td>257.527812</td>\n",
       "      <td>0.0</td>\n",
       "      <td>103.0</td>\n",
       "      <td>180.0</td>\n",
       "      <td>319.0</td>\n",
       "      <td>4918.0</td>\n",
       "    </tr>\n",
       "    <tr>\n",
       "      <th>campaign</th>\n",
       "      <td>45211.0</td>\n",
       "      <td>2.763841</td>\n",
       "      <td>3.098021</td>\n",
       "      <td>1.0</td>\n",
       "      <td>1.0</td>\n",
       "      <td>2.0</td>\n",
       "      <td>3.0</td>\n",
       "      <td>63.0</td>\n",
       "    </tr>\n",
       "    <tr>\n",
       "      <th>pdays</th>\n",
       "      <td>45211.0</td>\n",
       "      <td>40.197828</td>\n",
       "      <td>100.128746</td>\n",
       "      <td>-1.0</td>\n",
       "      <td>-1.0</td>\n",
       "      <td>-1.0</td>\n",
       "      <td>-1.0</td>\n",
       "      <td>871.0</td>\n",
       "    </tr>\n",
       "    <tr>\n",
       "      <th>previous</th>\n",
       "      <td>45211.0</td>\n",
       "      <td>0.580323</td>\n",
       "      <td>2.303441</td>\n",
       "      <td>0.0</td>\n",
       "      <td>0.0</td>\n",
       "      <td>0.0</td>\n",
       "      <td>0.0</td>\n",
       "      <td>275.0</td>\n",
       "    </tr>\n",
       "  </tbody>\n",
       "</table>\n",
       "</div>"
      ],
      "text/plain": [
       "            count          mean           std     min      25%      50%  \\\n",
       "Cust_num  45211.0  22606.000000  13051.435847     1.0  11303.5  22606.0   \n",
       "age       45211.0     40.936210     10.618762    18.0     33.0     39.0   \n",
       "balance   45211.0   1362.272058   3044.765829 -8019.0     72.0    448.0   \n",
       "day       45211.0     15.806419      8.322476     1.0      8.0     16.0   \n",
       "duration  45211.0    258.163080    257.527812     0.0    103.0    180.0   \n",
       "campaign  45211.0      2.763841      3.098021     1.0      1.0      2.0   \n",
       "pdays     45211.0     40.197828    100.128746    -1.0     -1.0     -1.0   \n",
       "previous  45211.0      0.580323      2.303441     0.0      0.0      0.0   \n",
       "\n",
       "              75%       max  \n",
       "Cust_num  33908.5   45211.0  \n",
       "age          48.0      95.0  \n",
       "balance    1428.0  102127.0  \n",
       "day          21.0      31.0  \n",
       "duration    319.0    4918.0  \n",
       "campaign      3.0      63.0  \n",
       "pdays        -1.0     871.0  \n",
       "previous      0.0     275.0  "
      ]
     },
     "execution_count": 21,
     "metadata": {},
     "output_type": "execute_result"
    }
   ],
   "source": [
    "bank.describe().transpose()"
   ]
  },
  {
   "cell_type": "code",
   "execution_count": 25,
   "metadata": {},
   "outputs": [
    {
     "data": {
      "text/plain": [
       "0.000     -8019.00\n",
       "0.050      -172.00\n",
       "0.250        72.00\n",
       "0.500       448.00\n",
       "0.750      1428.00\n",
       "0.900      3574.00\n",
       "0.950      5768.00\n",
       "0.997     22561.44\n",
       "1.000    102127.00\n",
       "Name: balance, dtype: float64"
      ]
     },
     "execution_count": 25,
     "metadata": {},
     "output_type": "execute_result"
    }
   ],
   "source": [
    "bank[\"balance\"].quantile([0,0.05,0.25,0.5,0.75,0.9,0.95,0.997,1])"
   ]
  },
  {
   "cell_type": "code",
   "execution_count": 26,
   "metadata": {},
   "outputs": [
    {
     "data": {
      "text/plain": [
       "1356.0"
      ]
     },
     "execution_count": 26,
     "metadata": {},
     "output_type": "execute_result"
    }
   ],
   "source": [
    "iqr=bank[\"balance\"].quantile(0.75)-bank[\"balance\"].quantile(0.25)\n",
    "iqr"
   ]
  },
  {
   "cell_type": "code",
   "execution_count": 27,
   "metadata": {},
   "outputs": [
    {
     "name": "stdout",
     "output_type": "stream",
     "text": [
      "lower outlier cut point -1962.0\n",
      "min balance in given data -8019\n",
      "\n",
      "\n",
      "upper outlier cut point 3462.0\n",
      "max balance in given data 102127\n"
     ]
    }
   ],
   "source": [
    "lo=bank[\"balance\"].quantile(0.25)-(1.5*iqr)\n",
    "print(\"lower outlier cut point\",lo)\n",
    "print(\"min balance in given data\",bank[\"balance\"].min())\n",
    "print(\"\\n\")\n",
    "uo=bank[\"balance\"].quantile(0.75)+(1.5*iqr)\n",
    "print(\"upper outlier cut point\",uo)\n",
    "print(\"max balance in given data\",bank[\"balance\"].max())"
   ]
  },
  {
   "cell_type": "code",
   "execution_count": 32,
   "metadata": {},
   "outputs": [],
   "source": [
    "def outlier_cal(data):\n",
    "    col=list(data.columns)\n",
    "    for i in col:\n",
    "        if data[i].dtypes !=\"object\":\n",
    "            iqr=data[i].quantile(0.75)-data[i].quantile(0.25)\n",
    "            lo=data[i].quantile(0.25)-(1.5*iqr)\n",
    "            uo=data[i].quantile(0.75)+(1.5*iqr)\n",
    "            print(\"each variable outlier values\",i,\"\\n\")\n",
    "            print(\"lower outlier cut off value\",lo)\n",
    "            print(\"min value in given data\",data[i].min())\n",
    "            print(\"upper outlier cut off value\",uo)\n",
    "            print(\"max value of a given data\",data[i].max())\n",
    "            print(\"\\n\")"
   ]
  },
  {
   "cell_type": "code",
   "execution_count": 33,
   "metadata": {},
   "outputs": [
    {
     "name": "stdout",
     "output_type": "stream",
     "text": [
      "each variable outlier values Cust_num \n",
      "\n",
      "lower outlier cut off value -22604.0\n",
      "min value in given data 1\n",
      "upper outlier cut off value 67816.0\n",
      "max value of a given data 45211\n",
      "\n",
      "\n",
      "each variable outlier values age \n",
      "\n",
      "lower outlier cut off value 10.5\n",
      "min value in given data 18\n",
      "upper outlier cut off value 70.5\n",
      "max value of a given data 95\n",
      "\n",
      "\n",
      "each variable outlier values balance \n",
      "\n",
      "lower outlier cut off value -1962.0\n",
      "min value in given data -8019\n",
      "upper outlier cut off value 3462.0\n",
      "max value of a given data 102127\n",
      "\n",
      "\n",
      "each variable outlier values day \n",
      "\n",
      "lower outlier cut off value -11.5\n",
      "min value in given data 1\n",
      "upper outlier cut off value 40.5\n",
      "max value of a given data 31\n",
      "\n",
      "\n",
      "each variable outlier values duration \n",
      "\n",
      "lower outlier cut off value -221.0\n",
      "min value in given data 0\n",
      "upper outlier cut off value 643.0\n",
      "max value of a given data 4918\n",
      "\n",
      "\n",
      "each variable outlier values campaign \n",
      "\n",
      "lower outlier cut off value -2.0\n",
      "min value in given data 1\n",
      "upper outlier cut off value 6.0\n",
      "max value of a given data 63\n",
      "\n",
      "\n",
      "each variable outlier values pdays \n",
      "\n",
      "lower outlier cut off value -1.0\n",
      "min value in given data -1\n",
      "upper outlier cut off value -1.0\n",
      "max value of a given data 871\n",
      "\n",
      "\n",
      "each variable outlier values previous \n",
      "\n",
      "lower outlier cut off value 0.0\n",
      "min value in given data 0\n",
      "upper outlier cut off value 0.0\n",
      "max value of a given data 275\n",
      "\n",
      "\n"
     ]
    }
   ],
   "source": [
    "outlier_cal(data=bank)"
   ]
  },
  {
   "cell_type": "code",
   "execution_count": null,
   "metadata": {},
   "outputs": [],
   "source": [
    "bank.to_excel"
   ]
  },
  {
   "cell_type": "code",
   "execution_count": 57,
   "metadata": {},
   "outputs": [],
   "source": [
    "def numeric_summary_stat(data):\n",
    "    sumry_stat=data.describe().T\n",
    "    iqr=sumry_stat[\"75%\"]-sumry_stat[\"25%\"]\n",
    "    sumry_stat[\"lo\"]=sumry_stat[\"25%\"]-(1.5*iqr)\n",
    "    sumry_stat[\"uo\"]=sumry_stat[\"75%\"]+(1.5*iqr)\n",
    "    sumry_stat[\"missing%\"]=(len(data)-sumry_stat[\"count\"])/len(data)*100\n",
    "    sumry_stat[\"5%\"]=data.quantile(0.05)\n",
    "    sumry_stat1=sumry_stat[[\"min\",\"5%\",\"25%\",\"50%\",\"mean\",\"75%\",\"max\",\"count\",\"missing%\",\"lo\",\"uo\"]]\n",
    "    sumry_stat1.to_excel(\"C:\\\\Users\\\\Koti\\\\Documents\\\\Data_Science\\\\DS_FEB_2020\\\\Analysis\\\\summary_stat.xls\")\n",
    "    return sumry_stat1"
   ]
  },
  {
   "cell_type": "code",
   "execution_count": 58,
   "metadata": {},
   "outputs": [
    {
     "data": {
      "text/html": [
       "<div>\n",
       "<style scoped>\n",
       "    .dataframe tbody tr th:only-of-type {\n",
       "        vertical-align: middle;\n",
       "    }\n",
       "\n",
       "    .dataframe tbody tr th {\n",
       "        vertical-align: top;\n",
       "    }\n",
       "\n",
       "    .dataframe thead th {\n",
       "        text-align: right;\n",
       "    }\n",
       "</style>\n",
       "<table border=\"1\" class=\"dataframe\">\n",
       "  <thead>\n",
       "    <tr style=\"text-align: right;\">\n",
       "      <th></th>\n",
       "      <th>min</th>\n",
       "      <th>5%</th>\n",
       "      <th>25%</th>\n",
       "      <th>50%</th>\n",
       "      <th>mean</th>\n",
       "      <th>75%</th>\n",
       "      <th>max</th>\n",
       "      <th>count</th>\n",
       "      <th>missing%</th>\n",
       "      <th>lo</th>\n",
       "      <th>uo</th>\n",
       "    </tr>\n",
       "  </thead>\n",
       "  <tbody>\n",
       "    <tr>\n",
       "      <th>Cust_num</th>\n",
       "      <td>1.0</td>\n",
       "      <td>2261.5</td>\n",
       "      <td>11303.5</td>\n",
       "      <td>22606.0</td>\n",
       "      <td>22606.000000</td>\n",
       "      <td>33908.5</td>\n",
       "      <td>45211.0</td>\n",
       "      <td>45211.0</td>\n",
       "      <td>0.0</td>\n",
       "      <td>-22604.0</td>\n",
       "      <td>67816.0</td>\n",
       "    </tr>\n",
       "    <tr>\n",
       "      <th>age</th>\n",
       "      <td>18.0</td>\n",
       "      <td>27.0</td>\n",
       "      <td>33.0</td>\n",
       "      <td>39.0</td>\n",
       "      <td>40.936210</td>\n",
       "      <td>48.0</td>\n",
       "      <td>95.0</td>\n",
       "      <td>45211.0</td>\n",
       "      <td>0.0</td>\n",
       "      <td>10.5</td>\n",
       "      <td>70.5</td>\n",
       "    </tr>\n",
       "    <tr>\n",
       "      <th>balance</th>\n",
       "      <td>-8019.0</td>\n",
       "      <td>-172.0</td>\n",
       "      <td>72.0</td>\n",
       "      <td>448.0</td>\n",
       "      <td>1362.272058</td>\n",
       "      <td>1428.0</td>\n",
       "      <td>102127.0</td>\n",
       "      <td>45211.0</td>\n",
       "      <td>0.0</td>\n",
       "      <td>-1962.0</td>\n",
       "      <td>3462.0</td>\n",
       "    </tr>\n",
       "    <tr>\n",
       "      <th>day</th>\n",
       "      <td>1.0</td>\n",
       "      <td>3.0</td>\n",
       "      <td>8.0</td>\n",
       "      <td>16.0</td>\n",
       "      <td>15.806419</td>\n",
       "      <td>21.0</td>\n",
       "      <td>31.0</td>\n",
       "      <td>45211.0</td>\n",
       "      <td>0.0</td>\n",
       "      <td>-11.5</td>\n",
       "      <td>40.5</td>\n",
       "    </tr>\n",
       "    <tr>\n",
       "      <th>duration</th>\n",
       "      <td>0.0</td>\n",
       "      <td>35.0</td>\n",
       "      <td>103.0</td>\n",
       "      <td>180.0</td>\n",
       "      <td>258.163080</td>\n",
       "      <td>319.0</td>\n",
       "      <td>4918.0</td>\n",
       "      <td>45211.0</td>\n",
       "      <td>0.0</td>\n",
       "      <td>-221.0</td>\n",
       "      <td>643.0</td>\n",
       "    </tr>\n",
       "    <tr>\n",
       "      <th>campaign</th>\n",
       "      <td>1.0</td>\n",
       "      <td>1.0</td>\n",
       "      <td>1.0</td>\n",
       "      <td>2.0</td>\n",
       "      <td>2.763841</td>\n",
       "      <td>3.0</td>\n",
       "      <td>63.0</td>\n",
       "      <td>45211.0</td>\n",
       "      <td>0.0</td>\n",
       "      <td>-2.0</td>\n",
       "      <td>6.0</td>\n",
       "    </tr>\n",
       "    <tr>\n",
       "      <th>pdays</th>\n",
       "      <td>-1.0</td>\n",
       "      <td>-1.0</td>\n",
       "      <td>-1.0</td>\n",
       "      <td>-1.0</td>\n",
       "      <td>40.197828</td>\n",
       "      <td>-1.0</td>\n",
       "      <td>871.0</td>\n",
       "      <td>45211.0</td>\n",
       "      <td>0.0</td>\n",
       "      <td>-1.0</td>\n",
       "      <td>-1.0</td>\n",
       "    </tr>\n",
       "    <tr>\n",
       "      <th>previous</th>\n",
       "      <td>0.0</td>\n",
       "      <td>0.0</td>\n",
       "      <td>0.0</td>\n",
       "      <td>0.0</td>\n",
       "      <td>0.580323</td>\n",
       "      <td>0.0</td>\n",
       "      <td>275.0</td>\n",
       "      <td>45211.0</td>\n",
       "      <td>0.0</td>\n",
       "      <td>0.0</td>\n",
       "      <td>0.0</td>\n",
       "    </tr>\n",
       "  </tbody>\n",
       "</table>\n",
       "</div>"
      ],
      "text/plain": [
       "             min      5%      25%      50%          mean      75%       max  \\\n",
       "Cust_num     1.0  2261.5  11303.5  22606.0  22606.000000  33908.5   45211.0   \n",
       "age         18.0    27.0     33.0     39.0     40.936210     48.0      95.0   \n",
       "balance  -8019.0  -172.0     72.0    448.0   1362.272058   1428.0  102127.0   \n",
       "day          1.0     3.0      8.0     16.0     15.806419     21.0      31.0   \n",
       "duration     0.0    35.0    103.0    180.0    258.163080    319.0    4918.0   \n",
       "campaign     1.0     1.0      1.0      2.0      2.763841      3.0      63.0   \n",
       "pdays       -1.0    -1.0     -1.0     -1.0     40.197828     -1.0     871.0   \n",
       "previous     0.0     0.0      0.0      0.0      0.580323      0.0     275.0   \n",
       "\n",
       "            count  missing%       lo       uo  \n",
       "Cust_num  45211.0       0.0 -22604.0  67816.0  \n",
       "age       45211.0       0.0     10.5     70.5  \n",
       "balance   45211.0       0.0  -1962.0   3462.0  \n",
       "day       45211.0       0.0    -11.5     40.5  \n",
       "duration  45211.0       0.0   -221.0    643.0  \n",
       "campaign  45211.0       0.0     -2.0      6.0  \n",
       "pdays     45211.0       0.0     -1.0     -1.0  \n",
       "previous  45211.0       0.0      0.0      0.0  "
      ]
     },
     "execution_count": 58,
     "metadata": {},
     "output_type": "execute_result"
    }
   ],
   "source": [
    "numeric_summary_stat(data=bank)"
   ]
  },
  {
   "cell_type": "code",
   "execution_count": null,
   "metadata": {},
   "outputs": [],
   "source": []
  }
 ],
 "metadata": {
  "kernelspec": {
   "display_name": "Python 3",
   "language": "python",
   "name": "python3"
  },
  "language_info": {
   "codemirror_mode": {
    "name": "ipython",
    "version": 3
   },
   "file_extension": ".py",
   "mimetype": "text/x-python",
   "name": "python",
   "nbconvert_exporter": "python",
   "pygments_lexer": "ipython3",
   "version": "3.6.5"
  }
 },
 "nbformat": 4,
 "nbformat_minor": 2
}
