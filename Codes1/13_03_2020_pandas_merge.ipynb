{
 "cells": [
  {
   "cell_type": "code",
   "execution_count": 1,
   "metadata": {},
   "outputs": [],
   "source": [
    "import numpy as np\n",
    "import pandas as pd\n"
   ]
  },
  {
   "cell_type": "code",
   "execution_count": 2,
   "metadata": {},
   "outputs": [],
   "source": [
    "bill=pd.read_csv(r\"C:\\ksr\\data science\\DS_batch1\\datasets\\Telecom Data Analysis\\Bill.csv\")"
   ]
  },
  {
   "cell_type": "code",
   "execution_count": 3,
   "metadata": {},
   "outputs": [],
   "source": [
    "comp=pd.read_csv(r\"C:\\ksr\\data science\\DS_batch1\\datasets\\Telecom Data Analysis\\Complaints.csv\")"
   ]
  },
  {
   "cell_type": "code",
   "execution_count": 4,
   "metadata": {},
   "outputs": [
    {
     "name": "stdout",
     "output_type": "stream",
     "text": [
      "(9462, 7) (6587, 8)\n"
     ]
    }
   ],
   "source": [
    "print(bill.shape,comp.shape)"
   ]
  },
  {
   "cell_type": "code",
   "execution_count": 6,
   "metadata": {},
   "outputs": [],
   "source": [
    "bill=bill.drop_duplicates(keep=\"last\")\n",
    "comp=comp.drop_duplicates(keep=\"first\")"
   ]
  },
  {
   "cell_type": "code",
   "execution_count": 7,
   "metadata": {
    "scrolled": true
   },
   "outputs": [
    {
     "data": {
      "text/html": [
       "<div>\n",
       "<style scoped>\n",
       "    .dataframe tbody tr th:only-of-type {\n",
       "        vertical-align: middle;\n",
       "    }\n",
       "\n",
       "    .dataframe tbody tr th {\n",
       "        vertical-align: top;\n",
       "    }\n",
       "\n",
       "    .dataframe thead th {\n",
       "        text-align: right;\n",
       "    }\n",
       "</style>\n",
       "<table border=\"1\" class=\"dataframe\">\n",
       "  <thead>\n",
       "    <tr style=\"text-align: right;\">\n",
       "      <th></th>\n",
       "      <th>cust_id</th>\n",
       "      <th>act_active_dt</th>\n",
       "      <th>package_id</th>\n",
       "      <th>bill_zip</th>\n",
       "      <th>customer_segment</th>\n",
       "      <th>status</th>\n",
       "      <th>bill_amt</th>\n",
       "    </tr>\n",
       "  </thead>\n",
       "  <tbody>\n",
       "    <tr>\n",
       "      <th>0</th>\n",
       "      <td>9243148228</td>\n",
       "      <td>6/22/2006</td>\n",
       "      <td>54518.0</td>\n",
       "      <td>560095</td>\n",
       "      <td>S</td>\n",
       "      <td>ACTIVE</td>\n",
       "      <td>561.80</td>\n",
       "    </tr>\n",
       "    <tr>\n",
       "      <th>1</th>\n",
       "      <td>9243264060</td>\n",
       "      <td>6/23/2006</td>\n",
       "      <td>617691.0</td>\n",
       "      <td>580029</td>\n",
       "      <td>S</td>\n",
       "      <td>ACTIVE</td>\n",
       "      <td>224.35</td>\n",
       "    </tr>\n",
       "    <tr>\n",
       "      <th>2</th>\n",
       "      <td>8951061271</td>\n",
       "      <td>8/14/2010</td>\n",
       "      <td>616488.0</td>\n",
       "      <td>560037</td>\n",
       "      <td>F</td>\n",
       "      <td>ACTIVE</td>\n",
       "      <td>1689.04</td>\n",
       "    </tr>\n",
       "    <tr>\n",
       "      <th>3</th>\n",
       "      <td>8951033996</td>\n",
       "      <td>6/26/2010</td>\n",
       "      <td>616488.0</td>\n",
       "      <td>560062</td>\n",
       "      <td>R</td>\n",
       "      <td>ACTIVE</td>\n",
       "      <td>344.04</td>\n",
       "    </tr>\n",
       "    <tr>\n",
       "      <th>4</th>\n",
       "      <td>9241079722</td>\n",
       "      <td>9/30/2005</td>\n",
       "      <td>614975.0</td>\n",
       "      <td>560017</td>\n",
       "      <td>G - TC</td>\n",
       "      <td>ACTIVE</td>\n",
       "      <td>478.33</td>\n",
       "    </tr>\n",
       "  </tbody>\n",
       "</table>\n",
       "</div>"
      ],
      "text/plain": [
       "      cust_id act_active_dt  package_id  bill_zip customer_segment  status  \\\n",
       "0  9243148228     6/22/2006     54518.0    560095                S  ACTIVE   \n",
       "1  9243264060     6/23/2006    617691.0    580029                S  ACTIVE   \n",
       "2  8951061271     8/14/2010    616488.0    560037                F  ACTIVE   \n",
       "3  8951033996     6/26/2010    616488.0    560062                R  ACTIVE   \n",
       "4  9241079722     9/30/2005    614975.0    560017           G - TC  ACTIVE   \n",
       "\n",
       "   bill_amt  \n",
       "0    561.80  \n",
       "1    224.35  \n",
       "2   1689.04  \n",
       "3    344.04  \n",
       "4    478.33  "
      ]
     },
     "execution_count": 7,
     "metadata": {},
     "output_type": "execute_result"
    }
   ],
   "source": [
    "bill.head()"
   ]
  },
  {
   "cell_type": "code",
   "execution_count": 8,
   "metadata": {},
   "outputs": [
    {
     "data": {
      "text/html": [
       "<div>\n",
       "<style scoped>\n",
       "    .dataframe tbody tr th:only-of-type {\n",
       "        vertical-align: middle;\n",
       "    }\n",
       "\n",
       "    .dataframe tbody tr th {\n",
       "        vertical-align: top;\n",
       "    }\n",
       "\n",
       "    .dataframe thead th {\n",
       "        text-align: right;\n",
       "    }\n",
       "</style>\n",
       "<table border=\"1\" class=\"dataframe\">\n",
       "  <thead>\n",
       "    <tr style=\"text-align: right;\">\n",
       "      <th></th>\n",
       "      <th>comp_id</th>\n",
       "      <th>month</th>\n",
       "      <th>incident</th>\n",
       "      <th>cust_id</th>\n",
       "      <th>sla status new</th>\n",
       "      <th>incident type</th>\n",
       "      <th>type</th>\n",
       "      <th>severity</th>\n",
       "    </tr>\n",
       "  </thead>\n",
       "  <tbody>\n",
       "    <tr>\n",
       "      <th>0</th>\n",
       "      <td>318691791</td>\n",
       "      <td>12-Jul</td>\n",
       "      <td>7/22/2012</td>\n",
       "      <td>9.243584e+09</td>\n",
       "      <td>ClosedIN SLA</td>\n",
       "      <td>Customer Communication</td>\n",
       "      <td>VAS-OTHERS</td>\n",
       "      <td>High</td>\n",
       "    </tr>\n",
       "    <tr>\n",
       "      <th>1</th>\n",
       "      <td>318691795</td>\n",
       "      <td>12-Jul</td>\n",
       "      <td>7/22/2012</td>\n",
       "      <td>9.243584e+09</td>\n",
       "      <td>ClosedIN SLA</td>\n",
       "      <td>Customer Communication</td>\n",
       "      <td>VAS-OTHERS</td>\n",
       "      <td>High</td>\n",
       "    </tr>\n",
       "    <tr>\n",
       "      <th>2</th>\n",
       "      <td>318691807</td>\n",
       "      <td>12-Jul</td>\n",
       "      <td>7/22/2012</td>\n",
       "      <td>9.243584e+09</td>\n",
       "      <td>ClosedIN SLA</td>\n",
       "      <td>Customer Communication</td>\n",
       "      <td>VAS-OTHERS</td>\n",
       "      <td>High</td>\n",
       "    </tr>\n",
       "    <tr>\n",
       "      <th>3</th>\n",
       "      <td>318691809</td>\n",
       "      <td>12-Jul</td>\n",
       "      <td>7/22/2012</td>\n",
       "      <td>9.243584e+09</td>\n",
       "      <td>ClosedIN SLA</td>\n",
       "      <td>Customer Communication</td>\n",
       "      <td>VAS-OTHERS</td>\n",
       "      <td>High</td>\n",
       "    </tr>\n",
       "    <tr>\n",
       "      <th>4</th>\n",
       "      <td>317997895</td>\n",
       "      <td>12-Jul</td>\n",
       "      <td>7/17/2012</td>\n",
       "      <td>9.282442e+09</td>\n",
       "      <td>ClosedIN SLA</td>\n",
       "      <td>Barring/Unbarring</td>\n",
       "      <td>VAS-OTHERS</td>\n",
       "      <td>High</td>\n",
       "    </tr>\n",
       "  </tbody>\n",
       "</table>\n",
       "</div>"
      ],
      "text/plain": [
       "     comp_id   month   incident       cust_id sla status new  \\\n",
       "0  318691791  12-Jul  7/22/2012  9.243584e+09   ClosedIN SLA   \n",
       "1  318691795  12-Jul  7/22/2012  9.243584e+09   ClosedIN SLA   \n",
       "2  318691807  12-Jul  7/22/2012  9.243584e+09   ClosedIN SLA   \n",
       "3  318691809  12-Jul  7/22/2012  9.243584e+09   ClosedIN SLA   \n",
       "4  317997895  12-Jul  7/17/2012  9.282442e+09   ClosedIN SLA   \n",
       "\n",
       "            incident type        type severity  \n",
       "0  Customer Communication  VAS-OTHERS     High  \n",
       "1  Customer Communication  VAS-OTHERS     High  \n",
       "2  Customer Communication  VAS-OTHERS     High  \n",
       "3  Customer Communication  VAS-OTHERS     High  \n",
       "4       Barring/Unbarring  VAS-OTHERS     High  "
      ]
     },
     "execution_count": 8,
     "metadata": {},
     "output_type": "execute_result"
    }
   ],
   "source": [
    "comp.head()"
   ]
  },
  {
   "cell_type": "code",
   "execution_count": 9,
   "metadata": {},
   "outputs": [
    {
     "data": {
      "text/plain": [
       "(424, 14)"
      ]
     },
     "execution_count": 9,
     "metadata": {},
     "output_type": "execute_result"
    }
   ],
   "source": [
    "inner_data=pd.merge(bill,comp,on=\"cust_id\",how=\"inner\")\n",
    "inner_data.shape"
   ]
  },
  {
   "cell_type": "code",
   "execution_count": 10,
   "metadata": {},
   "outputs": [
    {
     "data": {
      "text/plain": [
       "(424, 14)"
      ]
     },
     "execution_count": 10,
     "metadata": {},
     "output_type": "execute_result"
    }
   ],
   "source": [
    "inner_data=pd.merge(bill,comp,left_on=\"cust_id\",right_on=\"cust_id\")\n",
    "inner_data.shape"
   ]
  },
  {
   "cell_type": "code",
   "execution_count": 14,
   "metadata": {},
   "outputs": [
    {
     "data": {
      "text/html": [
       "<div>\n",
       "<style scoped>\n",
       "    .dataframe tbody tr th:only-of-type {\n",
       "        vertical-align: middle;\n",
       "    }\n",
       "\n",
       "    .dataframe tbody tr th {\n",
       "        vertical-align: top;\n",
       "    }\n",
       "\n",
       "    .dataframe thead th {\n",
       "        text-align: right;\n",
       "    }\n",
       "</style>\n",
       "<table border=\"1\" class=\"dataframe\">\n",
       "  <thead>\n",
       "    <tr style=\"text-align: right;\">\n",
       "      <th></th>\n",
       "      <th>cust_id</th>\n",
       "      <th>act_active_dt</th>\n",
       "      <th>package_id</th>\n",
       "      <th>bill_zip</th>\n",
       "      <th>customer_segment</th>\n",
       "      <th>status</th>\n",
       "      <th>bill_amt</th>\n",
       "      <th>comp_id</th>\n",
       "      <th>month</th>\n",
       "      <th>incident</th>\n",
       "      <th>sla status new</th>\n",
       "      <th>incident type</th>\n",
       "      <th>type</th>\n",
       "      <th>severity</th>\n",
       "    </tr>\n",
       "  </thead>\n",
       "  <tbody>\n",
       "    <tr>\n",
       "      <th>0</th>\n",
       "      <td>9886781830</td>\n",
       "      <td>8/12/2011</td>\n",
       "      <td>623511.0</td>\n",
       "      <td>560093</td>\n",
       "      <td>F</td>\n",
       "      <td>ACTIVE</td>\n",
       "      <td>622.98</td>\n",
       "      <td>318987683</td>\n",
       "      <td>12-Jul</td>\n",
       "      <td>7/24/2012</td>\n",
       "      <td>ClosedIN SLA</td>\n",
       "      <td>GSM Complaint on Network</td>\n",
       "      <td>TECH</td>\n",
       "      <td>Medium</td>\n",
       "    </tr>\n",
       "    <tr>\n",
       "      <th>1</th>\n",
       "      <td>9243188525</td>\n",
       "      <td>3/1/2007</td>\n",
       "      <td>13920.0</td>\n",
       "      <td>560001</td>\n",
       "      <td>G - TC</td>\n",
       "      <td>ACTIVE</td>\n",
       "      <td>1564.38</td>\n",
       "      <td>317489509</td>\n",
       "      <td>12-Jul</td>\n",
       "      <td>7/13/2012</td>\n",
       "      <td>ClosedIN SLA</td>\n",
       "      <td>CRBT/Call Me Tune Act/Deact</td>\n",
       "      <td>CB VAS</td>\n",
       "      <td>High</td>\n",
       "    </tr>\n",
       "    <tr>\n",
       "      <th>2</th>\n",
       "      <td>9243188525</td>\n",
       "      <td>3/1/2007</td>\n",
       "      <td>13920.0</td>\n",
       "      <td>560001</td>\n",
       "      <td>G - TC</td>\n",
       "      <td>ACTIVE</td>\n",
       "      <td>1564.38</td>\n",
       "      <td>317530669</td>\n",
       "      <td>12-Jul</td>\n",
       "      <td>7/13/2012</td>\n",
       "      <td>OpenIN SLA</td>\n",
       "      <td>CRBT/Call Me Tune Act/Deact</td>\n",
       "      <td>CB VAS</td>\n",
       "      <td>High</td>\n",
       "    </tr>\n",
       "    <tr>\n",
       "      <th>3</th>\n",
       "      <td>9243188525</td>\n",
       "      <td>3/1/2007</td>\n",
       "      <td>13920.0</td>\n",
       "      <td>560001</td>\n",
       "      <td>G - TC</td>\n",
       "      <td>ACTIVE</td>\n",
       "      <td>1564.38</td>\n",
       "      <td>317520257</td>\n",
       "      <td>12-Jul</td>\n",
       "      <td>7/13/2012</td>\n",
       "      <td>OpenIN SLA</td>\n",
       "      <td>Feature CRBT/Call Me Tune</td>\n",
       "      <td>CB VAS</td>\n",
       "      <td>High</td>\n",
       "    </tr>\n",
       "    <tr>\n",
       "      <th>4</th>\n",
       "      <td>9243188525</td>\n",
       "      <td>3/1/2007</td>\n",
       "      <td>13920.0</td>\n",
       "      <td>560001</td>\n",
       "      <td>G - TC</td>\n",
       "      <td>ACTIVE</td>\n",
       "      <td>1564.38</td>\n",
       "      <td>317531403</td>\n",
       "      <td>12-Jul</td>\n",
       "      <td>7/13/2012</td>\n",
       "      <td>OpenIN SLA</td>\n",
       "      <td>Feature CRBT/Call Me Tune</td>\n",
       "      <td>CB VAS</td>\n",
       "      <td>High</td>\n",
       "    </tr>\n",
       "  </tbody>\n",
       "</table>\n",
       "</div>"
      ],
      "text/plain": [
       "      cust_id act_active_dt  package_id  bill_zip customer_segment  status  \\\n",
       "0  9886781830     8/12/2011    623511.0    560093                F  ACTIVE   \n",
       "1  9243188525      3/1/2007     13920.0    560001           G - TC  ACTIVE   \n",
       "2  9243188525      3/1/2007     13920.0    560001           G - TC  ACTIVE   \n",
       "3  9243188525      3/1/2007     13920.0    560001           G - TC  ACTIVE   \n",
       "4  9243188525      3/1/2007     13920.0    560001           G - TC  ACTIVE   \n",
       "\n",
       "   bill_amt    comp_id   month   incident sla status new  \\\n",
       "0    622.98  318987683  12-Jul  7/24/2012   ClosedIN SLA   \n",
       "1   1564.38  317489509  12-Jul  7/13/2012   ClosedIN SLA   \n",
       "2   1564.38  317530669  12-Jul  7/13/2012     OpenIN SLA   \n",
       "3   1564.38  317520257  12-Jul  7/13/2012     OpenIN SLA   \n",
       "4   1564.38  317531403  12-Jul  7/13/2012     OpenIN SLA   \n",
       "\n",
       "                 incident type    type severity  \n",
       "0     GSM Complaint on Network    TECH   Medium  \n",
       "1  CRBT/Call Me Tune Act/Deact  CB VAS     High  \n",
       "2  CRBT/Call Me Tune Act/Deact  CB VAS     High  \n",
       "3    Feature CRBT/Call Me Tune  CB VAS     High  \n",
       "4    Feature CRBT/Call Me Tune  CB VAS     High  "
      ]
     },
     "execution_count": 14,
     "metadata": {},
     "output_type": "execute_result"
    }
   ],
   "source": [
    "inner_data=pd.merge(left=bill,right=comp,left_on=\"cust_id\",right_on=\"cust_id\")\n",
    "inner_data.shape\n",
    "inner_data.head()"
   ]
  },
  {
   "cell_type": "code",
   "execution_count": 22,
   "metadata": {
    "scrolled": true
   },
   "outputs": [
    {
     "data": {
      "text/plain": [
       "(424, 14)"
      ]
     },
     "execution_count": 22,
     "metadata": {},
     "output_type": "execute_result"
    }
   ],
   "source": [
    "inner_data=pd.merge(left=bill,right=comp,left_on=\"cust_id\",right_on=\"cust_id\",validate=\"many_to_many\")\n",
    "inner_data.shape\n"
   ]
  },
  {
   "cell_type": "code",
   "execution_count": 17,
   "metadata": {
    "scrolled": true
   },
   "outputs": [
    {
     "data": {
      "text/html": [
       "<div>\n",
       "<style scoped>\n",
       "    .dataframe tbody tr th:only-of-type {\n",
       "        vertical-align: middle;\n",
       "    }\n",
       "\n",
       "    .dataframe tbody tr th {\n",
       "        vertical-align: top;\n",
       "    }\n",
       "\n",
       "    .dataframe thead th {\n",
       "        text-align: right;\n",
       "    }\n",
       "</style>\n",
       "<table border=\"1\" class=\"dataframe\">\n",
       "  <thead>\n",
       "    <tr style=\"text-align: right;\">\n",
       "      <th></th>\n",
       "      <th>cust_id</th>\n",
       "      <th>act_active_dt</th>\n",
       "      <th>package_id</th>\n",
       "      <th>bill_zip</th>\n",
       "      <th>customer_segment</th>\n",
       "      <th>status</th>\n",
       "      <th>bill_amt</th>\n",
       "      <th>comp_id</th>\n",
       "      <th>month</th>\n",
       "      <th>incident</th>\n",
       "      <th>sla status new</th>\n",
       "      <th>incident type</th>\n",
       "      <th>type</th>\n",
       "      <th>severity</th>\n",
       "      <th>_merge</th>\n",
       "    </tr>\n",
       "  </thead>\n",
       "  <tbody>\n",
       "    <tr>\n",
       "      <th>0</th>\n",
       "      <td>9886781830</td>\n",
       "      <td>8/12/2011</td>\n",
       "      <td>623511.0</td>\n",
       "      <td>560093</td>\n",
       "      <td>F</td>\n",
       "      <td>ACTIVE</td>\n",
       "      <td>622.98</td>\n",
       "      <td>318987683</td>\n",
       "      <td>12-Jul</td>\n",
       "      <td>7/24/2012</td>\n",
       "      <td>ClosedIN SLA</td>\n",
       "      <td>GSM Complaint on Network</td>\n",
       "      <td>TECH</td>\n",
       "      <td>Medium</td>\n",
       "      <td>both</td>\n",
       "    </tr>\n",
       "    <tr>\n",
       "      <th>1</th>\n",
       "      <td>9243188525</td>\n",
       "      <td>3/1/2007</td>\n",
       "      <td>13920.0</td>\n",
       "      <td>560001</td>\n",
       "      <td>G - TC</td>\n",
       "      <td>ACTIVE</td>\n",
       "      <td>1564.38</td>\n",
       "      <td>317489509</td>\n",
       "      <td>12-Jul</td>\n",
       "      <td>7/13/2012</td>\n",
       "      <td>ClosedIN SLA</td>\n",
       "      <td>CRBT/Call Me Tune Act/Deact</td>\n",
       "      <td>CB VAS</td>\n",
       "      <td>High</td>\n",
       "      <td>both</td>\n",
       "    </tr>\n",
       "    <tr>\n",
       "      <th>2</th>\n",
       "      <td>9243188525</td>\n",
       "      <td>3/1/2007</td>\n",
       "      <td>13920.0</td>\n",
       "      <td>560001</td>\n",
       "      <td>G - TC</td>\n",
       "      <td>ACTIVE</td>\n",
       "      <td>1564.38</td>\n",
       "      <td>317530669</td>\n",
       "      <td>12-Jul</td>\n",
       "      <td>7/13/2012</td>\n",
       "      <td>OpenIN SLA</td>\n",
       "      <td>CRBT/Call Me Tune Act/Deact</td>\n",
       "      <td>CB VAS</td>\n",
       "      <td>High</td>\n",
       "      <td>both</td>\n",
       "    </tr>\n",
       "    <tr>\n",
       "      <th>3</th>\n",
       "      <td>9243188525</td>\n",
       "      <td>3/1/2007</td>\n",
       "      <td>13920.0</td>\n",
       "      <td>560001</td>\n",
       "      <td>G - TC</td>\n",
       "      <td>ACTIVE</td>\n",
       "      <td>1564.38</td>\n",
       "      <td>317520257</td>\n",
       "      <td>12-Jul</td>\n",
       "      <td>7/13/2012</td>\n",
       "      <td>OpenIN SLA</td>\n",
       "      <td>Feature CRBT/Call Me Tune</td>\n",
       "      <td>CB VAS</td>\n",
       "      <td>High</td>\n",
       "      <td>both</td>\n",
       "    </tr>\n",
       "    <tr>\n",
       "      <th>4</th>\n",
       "      <td>9243188525</td>\n",
       "      <td>3/1/2007</td>\n",
       "      <td>13920.0</td>\n",
       "      <td>560001</td>\n",
       "      <td>G - TC</td>\n",
       "      <td>ACTIVE</td>\n",
       "      <td>1564.38</td>\n",
       "      <td>317531403</td>\n",
       "      <td>12-Jul</td>\n",
       "      <td>7/13/2012</td>\n",
       "      <td>OpenIN SLA</td>\n",
       "      <td>Feature CRBT/Call Me Tune</td>\n",
       "      <td>CB VAS</td>\n",
       "      <td>High</td>\n",
       "      <td>both</td>\n",
       "    </tr>\n",
       "  </tbody>\n",
       "</table>\n",
       "</div>"
      ],
      "text/plain": [
       "      cust_id act_active_dt  package_id  bill_zip customer_segment  status  \\\n",
       "0  9886781830     8/12/2011    623511.0    560093                F  ACTIVE   \n",
       "1  9243188525      3/1/2007     13920.0    560001           G - TC  ACTIVE   \n",
       "2  9243188525      3/1/2007     13920.0    560001           G - TC  ACTIVE   \n",
       "3  9243188525      3/1/2007     13920.0    560001           G - TC  ACTIVE   \n",
       "4  9243188525      3/1/2007     13920.0    560001           G - TC  ACTIVE   \n",
       "\n",
       "   bill_amt    comp_id   month   incident sla status new  \\\n",
       "0    622.98  318987683  12-Jul  7/24/2012   ClosedIN SLA   \n",
       "1   1564.38  317489509  12-Jul  7/13/2012   ClosedIN SLA   \n",
       "2   1564.38  317530669  12-Jul  7/13/2012     OpenIN SLA   \n",
       "3   1564.38  317520257  12-Jul  7/13/2012     OpenIN SLA   \n",
       "4   1564.38  317531403  12-Jul  7/13/2012     OpenIN SLA   \n",
       "\n",
       "                 incident type    type severity _merge  \n",
       "0     GSM Complaint on Network    TECH   Medium   both  \n",
       "1  CRBT/Call Me Tune Act/Deact  CB VAS     High   both  \n",
       "2  CRBT/Call Me Tune Act/Deact  CB VAS     High   both  \n",
       "3    Feature CRBT/Call Me Tune  CB VAS     High   both  \n",
       "4    Feature CRBT/Call Me Tune  CB VAS     High   both  "
      ]
     },
     "execution_count": 17,
     "metadata": {},
     "output_type": "execute_result"
    }
   ],
   "source": [
    "inner_data.head()"
   ]
  },
  {
   "cell_type": "code",
   "execution_count": 18,
   "metadata": {},
   "outputs": [
    {
     "data": {
      "text/plain": [
       "both          424\n",
       "right_only      0\n",
       "left_only       0\n",
       "Name: _merge, dtype: int64"
      ]
     },
     "execution_count": 18,
     "metadata": {},
     "output_type": "execute_result"
    }
   ],
   "source": [
    "inner_data[\"_merge\"].value_counts()"
   ]
  },
  {
   "cell_type": "code",
   "execution_count": 19,
   "metadata": {
    "scrolled": true
   },
   "outputs": [
    {
     "name": "stdout",
     "output_type": "stream",
     "text": [
      "Help on function merge in module pandas.core.reshape.merge:\n",
      "\n",
      "merge(left, right, how='inner', on=None, left_on=None, right_on=None, left_index=False, right_index=False, sort=False, suffixes=('_x', '_y'), copy=True, indicator=False, validate=None)\n",
      "    Merge DataFrame or named Series objects with a database-style join.\n",
      "    \n",
      "    The join is done on columns or indexes. If joining columns on\n",
      "    columns, the DataFrame indexes *will be ignored*. Otherwise if joining indexes\n",
      "    on indexes or indexes on a column or columns, the index will be passed on.\n",
      "    \n",
      "    Parameters\n",
      "    ----------\n",
      "    left : DataFrame\n",
      "    right : DataFrame or named Series\n",
      "        Object to merge with.\n",
      "    how : {'left', 'right', 'outer', 'inner'}, default 'inner'\n",
      "        Type of merge to be performed.\n",
      "    \n",
      "        * left: use only keys from left frame, similar to a SQL left outer join;\n",
      "          preserve key order.\n",
      "        * right: use only keys from right frame, similar to a SQL right outer join;\n",
      "          preserve key order.\n",
      "        * outer: use union of keys from both frames, similar to a SQL full outer\n",
      "          join; sort keys lexicographically.\n",
      "        * inner: use intersection of keys from both frames, similar to a SQL inner\n",
      "          join; preserve the order of the left keys.\n",
      "    on : label or list\n",
      "        Column or index level names to join on. These must be found in both\n",
      "        DataFrames. If `on` is None and not merging on indexes then this defaults\n",
      "        to the intersection of the columns in both DataFrames.\n",
      "    left_on : label or list, or array-like\n",
      "        Column or index level names to join on in the left DataFrame. Can also\n",
      "        be an array or list of arrays of the length of the left DataFrame.\n",
      "        These arrays are treated as if they are columns.\n",
      "    right_on : label or list, or array-like\n",
      "        Column or index level names to join on in the right DataFrame. Can also\n",
      "        be an array or list of arrays of the length of the right DataFrame.\n",
      "        These arrays are treated as if they are columns.\n",
      "    left_index : bool, default False\n",
      "        Use the index from the left DataFrame as the join key(s). If it is a\n",
      "        MultiIndex, the number of keys in the other DataFrame (either the index\n",
      "        or a number of columns) must match the number of levels.\n",
      "    right_index : bool, default False\n",
      "        Use the index from the right DataFrame as the join key. Same caveats as\n",
      "        left_index.\n",
      "    sort : bool, default False\n",
      "        Sort the join keys lexicographically in the result DataFrame. If False,\n",
      "        the order of the join keys depends on the join type (how keyword).\n",
      "    suffixes : tuple of (str, str), default ('_x', '_y')\n",
      "        Suffix to apply to overlapping column names in the left and right\n",
      "        side, respectively. To raise an exception on overlapping columns use\n",
      "        (False, False).\n",
      "    copy : bool, default True\n",
      "        If False, avoid copy if possible.\n",
      "    indicator : bool or str, default False\n",
      "        If True, adds a column to output DataFrame called \"_merge\" with\n",
      "        information on the source of each row.\n",
      "        If string, column with information on source of each row will be added to\n",
      "        output DataFrame, and column will be named value of string.\n",
      "        Information column is Categorical-type and takes on a value of \"left_only\"\n",
      "        for observations whose merge key only appears in 'left' DataFrame,\n",
      "        \"right_only\" for observations whose merge key only appears in 'right'\n",
      "        DataFrame, and \"both\" if the observation's merge key is found in both.\n",
      "    \n",
      "    validate : str, optional\n",
      "        If specified, checks if merge is of specified type.\n",
      "    \n",
      "        * \"one_to_one\" or \"1:1\": check if merge keys are unique in both\n",
      "          left and right datasets.\n",
      "        * \"one_to_many\" or \"1:m\": check if merge keys are unique in left\n",
      "          dataset.\n",
      "        * \"many_to_one\" or \"m:1\": check if merge keys are unique in right\n",
      "          dataset.\n",
      "        * \"many_to_many\" or \"m:m\": allowed, but does not result in checks.\n",
      "    \n",
      "        .. versionadded:: 0.21.0\n",
      "    \n",
      "    Returns\n",
      "    -------\n",
      "    DataFrame\n",
      "        A DataFrame of the two merged objects.\n",
      "    \n",
      "    See Also\n",
      "    --------\n",
      "    merge_ordered : Merge with optional filling/interpolation.\n",
      "    merge_asof : Merge on nearest keys.\n",
      "    DataFrame.join : Similar method using indices.\n",
      "    \n",
      "    Notes\n",
      "    -----\n",
      "    Support for specifying index levels as the `on`, `left_on`, and\n",
      "    `right_on` parameters was added in version 0.23.0\n",
      "    Support for merging named Series objects was added in version 0.24.0\n",
      "    \n",
      "    Examples\n",
      "    --------\n",
      "    \n",
      "    >>> df1 = pd.DataFrame({'lkey': ['foo', 'bar', 'baz', 'foo'],\n",
      "    ...                     'value': [1, 2, 3, 5]})\n",
      "    >>> df2 = pd.DataFrame({'rkey': ['foo', 'bar', 'baz', 'foo'],\n",
      "    ...                     'value': [5, 6, 7, 8]})\n",
      "    >>> df1\n",
      "        lkey value\n",
      "    0   foo      1\n",
      "    1   bar      2\n",
      "    2   baz      3\n",
      "    3   foo      5\n",
      "    >>> df2\n",
      "        rkey value\n",
      "    0   foo      5\n",
      "    1   bar      6\n",
      "    2   baz      7\n",
      "    3   foo      8\n",
      "    \n",
      "    Merge df1 and df2 on the lkey and rkey columns. The value columns have\n",
      "    the default suffixes, _x and _y, appended.\n",
      "    \n",
      "    >>> df1.merge(df2, left_on='lkey', right_on='rkey')\n",
      "      lkey  value_x rkey  value_y\n",
      "    0  foo        1  foo        5\n",
      "    1  foo        1  foo        8\n",
      "    2  foo        5  foo        5\n",
      "    3  foo        5  foo        8\n",
      "    4  bar        2  bar        6\n",
      "    5  baz        3  baz        7\n",
      "    \n",
      "    Merge DataFrames df1 and df2 with specified left and right suffixes\n",
      "    appended to any overlapping columns.\n",
      "    \n",
      "    >>> df1.merge(df2, left_on='lkey', right_on='rkey',\n",
      "    ...           suffixes=('_left', '_right'))\n",
      "      lkey  value_left rkey  value_right\n",
      "    0  foo           1  foo            5\n",
      "    1  foo           1  foo            8\n",
      "    2  foo           5  foo            5\n",
      "    3  foo           5  foo            8\n",
      "    4  bar           2  bar            6\n",
      "    5  baz           3  baz            7\n",
      "    \n",
      "    Merge DataFrames df1 and df2, but raise an exception if the DataFrames have\n",
      "    any overlapping columns.\n",
      "    \n",
      "    >>> df1.merge(df2, left_on='lkey', right_on='rkey', suffixes=(False, False))\n",
      "    Traceback (most recent call last):\n",
      "    ...\n",
      "    ValueError: columns overlap but no suffix specified:\n",
      "        Index(['value'], dtype='object')\n",
      "\n"
     ]
    }
   ],
   "source": [
    "help(pd.merge)"
   ]
  },
  {
   "cell_type": "code",
   "execution_count": 23,
   "metadata": {},
   "outputs": [
    {
     "data": {
      "text/html": [
       "<div>\n",
       "<style scoped>\n",
       "    .dataframe tbody tr th:only-of-type {\n",
       "        vertical-align: middle;\n",
       "    }\n",
       "\n",
       "    .dataframe tbody tr th {\n",
       "        vertical-align: top;\n",
       "    }\n",
       "\n",
       "    .dataframe thead th {\n",
       "        text-align: right;\n",
       "    }\n",
       "</style>\n",
       "<table border=\"1\" class=\"dataframe\">\n",
       "  <thead>\n",
       "    <tr style=\"text-align: right;\">\n",
       "      <th></th>\n",
       "      <th>cust_id</th>\n",
       "      <th>act_active_dt</th>\n",
       "      <th>package_id</th>\n",
       "      <th>bill_zip</th>\n",
       "      <th>customer_segment</th>\n",
       "      <th>status</th>\n",
       "      <th>bill_amt</th>\n",
       "    </tr>\n",
       "  </thead>\n",
       "  <tbody>\n",
       "    <tr>\n",
       "      <th>0</th>\n",
       "      <td>9243148228</td>\n",
       "      <td>6/22/2006</td>\n",
       "      <td>54518.0</td>\n",
       "      <td>560095</td>\n",
       "      <td>S</td>\n",
       "      <td>ACTIVE</td>\n",
       "      <td>561.80</td>\n",
       "    </tr>\n",
       "    <tr>\n",
       "      <th>1</th>\n",
       "      <td>9243264060</td>\n",
       "      <td>6/23/2006</td>\n",
       "      <td>617691.0</td>\n",
       "      <td>580029</td>\n",
       "      <td>S</td>\n",
       "      <td>ACTIVE</td>\n",
       "      <td>224.35</td>\n",
       "    </tr>\n",
       "    <tr>\n",
       "      <th>2</th>\n",
       "      <td>8951061271</td>\n",
       "      <td>8/14/2010</td>\n",
       "      <td>616488.0</td>\n",
       "      <td>560037</td>\n",
       "      <td>F</td>\n",
       "      <td>ACTIVE</td>\n",
       "      <td>1689.04</td>\n",
       "    </tr>\n",
       "    <tr>\n",
       "      <th>3</th>\n",
       "      <td>8951033996</td>\n",
       "      <td>6/26/2010</td>\n",
       "      <td>616488.0</td>\n",
       "      <td>560062</td>\n",
       "      <td>R</td>\n",
       "      <td>ACTIVE</td>\n",
       "      <td>344.04</td>\n",
       "    </tr>\n",
       "    <tr>\n",
       "      <th>4</th>\n",
       "      <td>9241079722</td>\n",
       "      <td>9/30/2005</td>\n",
       "      <td>614975.0</td>\n",
       "      <td>560017</td>\n",
       "      <td>G - TC</td>\n",
       "      <td>ACTIVE</td>\n",
       "      <td>478.33</td>\n",
       "    </tr>\n",
       "  </tbody>\n",
       "</table>\n",
       "</div>"
      ],
      "text/plain": [
       "      cust_id act_active_dt  package_id  bill_zip customer_segment  status  \\\n",
       "0  9243148228     6/22/2006     54518.0    560095                S  ACTIVE   \n",
       "1  9243264060     6/23/2006    617691.0    580029                S  ACTIVE   \n",
       "2  8951061271     8/14/2010    616488.0    560037                F  ACTIVE   \n",
       "3  8951033996     6/26/2010    616488.0    560062                R  ACTIVE   \n",
       "4  9241079722     9/30/2005    614975.0    560017           G - TC  ACTIVE   \n",
       "\n",
       "   bill_amt  \n",
       "0    561.80  \n",
       "1    224.35  \n",
       "2   1689.04  \n",
       "3    344.04  \n",
       "4    478.33  "
      ]
     },
     "execution_count": 23,
     "metadata": {},
     "output_type": "execute_result"
    }
   ],
   "source": [
    "bill.head()"
   ]
  },
  {
   "cell_type": "code",
   "execution_count": 24,
   "metadata": {},
   "outputs": [
    {
     "data": {
      "text/html": [
       "<div>\n",
       "<style scoped>\n",
       "    .dataframe tbody tr th:only-of-type {\n",
       "        vertical-align: middle;\n",
       "    }\n",
       "\n",
       "    .dataframe tbody tr th {\n",
       "        vertical-align: top;\n",
       "    }\n",
       "\n",
       "    .dataframe thead th {\n",
       "        text-align: right;\n",
       "    }\n",
       "</style>\n",
       "<table border=\"1\" class=\"dataframe\">\n",
       "  <thead>\n",
       "    <tr style=\"text-align: right;\">\n",
       "      <th></th>\n",
       "      <th>comp_id</th>\n",
       "      <th>month</th>\n",
       "      <th>incident</th>\n",
       "      <th>cust_id</th>\n",
       "      <th>sla status new</th>\n",
       "      <th>incident type</th>\n",
       "      <th>type</th>\n",
       "      <th>severity</th>\n",
       "    </tr>\n",
       "  </thead>\n",
       "  <tbody>\n",
       "    <tr>\n",
       "      <th>0</th>\n",
       "      <td>318691791</td>\n",
       "      <td>12-Jul</td>\n",
       "      <td>7/22/2012</td>\n",
       "      <td>9.243584e+09</td>\n",
       "      <td>ClosedIN SLA</td>\n",
       "      <td>Customer Communication</td>\n",
       "      <td>VAS-OTHERS</td>\n",
       "      <td>High</td>\n",
       "    </tr>\n",
       "    <tr>\n",
       "      <th>1</th>\n",
       "      <td>318691795</td>\n",
       "      <td>12-Jul</td>\n",
       "      <td>7/22/2012</td>\n",
       "      <td>9.243584e+09</td>\n",
       "      <td>ClosedIN SLA</td>\n",
       "      <td>Customer Communication</td>\n",
       "      <td>VAS-OTHERS</td>\n",
       "      <td>High</td>\n",
       "    </tr>\n",
       "    <tr>\n",
       "      <th>2</th>\n",
       "      <td>318691807</td>\n",
       "      <td>12-Jul</td>\n",
       "      <td>7/22/2012</td>\n",
       "      <td>9.243584e+09</td>\n",
       "      <td>ClosedIN SLA</td>\n",
       "      <td>Customer Communication</td>\n",
       "      <td>VAS-OTHERS</td>\n",
       "      <td>High</td>\n",
       "    </tr>\n",
       "    <tr>\n",
       "      <th>3</th>\n",
       "      <td>318691809</td>\n",
       "      <td>12-Jul</td>\n",
       "      <td>7/22/2012</td>\n",
       "      <td>9.243584e+09</td>\n",
       "      <td>ClosedIN SLA</td>\n",
       "      <td>Customer Communication</td>\n",
       "      <td>VAS-OTHERS</td>\n",
       "      <td>High</td>\n",
       "    </tr>\n",
       "    <tr>\n",
       "      <th>4</th>\n",
       "      <td>317997895</td>\n",
       "      <td>12-Jul</td>\n",
       "      <td>7/17/2012</td>\n",
       "      <td>9.282442e+09</td>\n",
       "      <td>ClosedIN SLA</td>\n",
       "      <td>Barring/Unbarring</td>\n",
       "      <td>VAS-OTHERS</td>\n",
       "      <td>High</td>\n",
       "    </tr>\n",
       "  </tbody>\n",
       "</table>\n",
       "</div>"
      ],
      "text/plain": [
       "     comp_id   month   incident       cust_id sla status new  \\\n",
       "0  318691791  12-Jul  7/22/2012  9.243584e+09   ClosedIN SLA   \n",
       "1  318691795  12-Jul  7/22/2012  9.243584e+09   ClosedIN SLA   \n",
       "2  318691807  12-Jul  7/22/2012  9.243584e+09   ClosedIN SLA   \n",
       "3  318691809  12-Jul  7/22/2012  9.243584e+09   ClosedIN SLA   \n",
       "4  317997895  12-Jul  7/17/2012  9.282442e+09   ClosedIN SLA   \n",
       "\n",
       "            incident type        type severity  \n",
       "0  Customer Communication  VAS-OTHERS     High  \n",
       "1  Customer Communication  VAS-OTHERS     High  \n",
       "2  Customer Communication  VAS-OTHERS     High  \n",
       "3  Customer Communication  VAS-OTHERS     High  \n",
       "4       Barring/Unbarring  VAS-OTHERS     High  "
      ]
     },
     "execution_count": 24,
     "metadata": {},
     "output_type": "execute_result"
    }
   ],
   "source": [
    "comp.head()"
   ]
  },
  {
   "cell_type": "code",
   "execution_count": 28,
   "metadata": {},
   "outputs": [
    {
     "data": {
      "text/plain": [
       "(424, 9)"
      ]
     },
     "execution_count": 28,
     "metadata": {},
     "output_type": "execute_result"
    }
   ],
   "source": [
    "inner_data=pd.merge(left=bill,right=comp[[\"month\",\"type\",\"cust_id\"]],on=\"cust_id\")\n",
    "inner_data.shape"
   ]
  },
  {
   "cell_type": "code",
   "execution_count": 29,
   "metadata": {},
   "outputs": [
    {
     "data": {
      "text/plain": [
       "(9452, 7)"
      ]
     },
     "execution_count": 29,
     "metadata": {},
     "output_type": "execute_result"
    }
   ],
   "source": [
    "bill.shape"
   ]
  },
  {
   "cell_type": "code",
   "execution_count": 30,
   "metadata": {},
   "outputs": [
    {
     "data": {
      "text/plain": [
       "(9575, 15)"
      ]
     },
     "execution_count": 30,
     "metadata": {},
     "output_type": "execute_result"
    }
   ],
   "source": [
    "left_data=pd.merge(left=bill,right=comp,on=\"cust_id\",how=\"left\",indicator=True)\n",
    "left_data.shape"
   ]
  },
  {
   "cell_type": "code",
   "execution_count": 31,
   "metadata": {},
   "outputs": [],
   "source": [
    "dup=bill[\"cust_id\"].duplicated()\n",
    "bill1=bill[dup==False]"
   ]
  },
  {
   "cell_type": "code",
   "execution_count": 35,
   "metadata": {},
   "outputs": [],
   "source": [
    "dup1=comp[\"cust_id\"].duplicated()\n",
    "comp1=comp[dup1==False]"
   ]
  },
  {
   "cell_type": "code",
   "execution_count": 36,
   "metadata": {},
   "outputs": [
    {
     "name": "stdout",
     "output_type": "stream",
     "text": [
      "(9389, 7) (4856, 8)\n"
     ]
    }
   ],
   "source": [
    "print(bill1.shape,comp1.shape)"
   ]
  },
  {
   "cell_type": "code",
   "execution_count": 37,
   "metadata": {},
   "outputs": [
    {
     "data": {
      "text/plain": [
       "(9389, 15)"
      ]
     },
     "execution_count": 37,
     "metadata": {},
     "output_type": "execute_result"
    }
   ],
   "source": [
    "left_data=pd.merge(left=bill1,right=comp1,on=\"cust_id\",how=\"left\",indicator=True)\n",
    "left_data.shape"
   ]
  },
  {
   "cell_type": "code",
   "execution_count": 38,
   "metadata": {},
   "outputs": [
    {
     "data": {
      "text/plain": [
       "left_only     9096\n",
       "both           293\n",
       "right_only       0\n",
       "Name: _merge, dtype: int64"
      ]
     },
     "execution_count": 38,
     "metadata": {},
     "output_type": "execute_result"
    }
   ],
   "source": [
    "left_data[\"_merge\"].value_counts()"
   ]
  },
  {
   "cell_type": "code",
   "execution_count": 39,
   "metadata": {},
   "outputs": [
    {
     "data": {
      "text/plain": [
       "(9096, 15)"
      ]
     },
     "execution_count": 39,
     "metadata": {},
     "output_type": "execute_result"
    }
   ],
   "source": [
    "left_data1=left_data[left_data[\"_merge\"]==\"left_only\"]\n",
    "left_data1.shape"
   ]
  },
  {
   "cell_type": "code",
   "execution_count": 41,
   "metadata": {},
   "outputs": [
    {
     "data": {
      "text/plain": [
       "(4856, 15)"
      ]
     },
     "execution_count": 41,
     "metadata": {},
     "output_type": "execute_result"
    }
   ],
   "source": [
    "right_data=pd.merge(left=bill1,right=comp1,on=\"cust_id\",how=\"right\",indicator=True)\n",
    "right_data.shape"
   ]
  },
  {
   "cell_type": "code",
   "execution_count": 42,
   "metadata": {},
   "outputs": [
    {
     "data": {
      "text/plain": [
       "right_only    4563\n",
       "both           293\n",
       "left_only        0\n",
       "Name: _merge, dtype: int64"
      ]
     },
     "execution_count": 42,
     "metadata": {},
     "output_type": "execute_result"
    }
   ],
   "source": [
    "right_data[\"_merge\"].value_counts()"
   ]
  },
  {
   "cell_type": "code",
   "execution_count": 43,
   "metadata": {},
   "outputs": [
    {
     "data": {
      "text/plain": [
       "(13952, 15)"
      ]
     },
     "execution_count": 43,
     "metadata": {},
     "output_type": "execute_result"
    }
   ],
   "source": [
    "full_data=pd.merge(left=bill1,right=comp1,on=\"cust_id\",how=\"outer\",indicator=True)\n",
    "full_data.shape"
   ]
  },
  {
   "cell_type": "code",
   "execution_count": 44,
   "metadata": {},
   "outputs": [
    {
     "data": {
      "text/plain": [
       "left_only     9096\n",
       "right_only    4563\n",
       "both           293\n",
       "Name: _merge, dtype: int64"
      ]
     },
     "execution_count": 44,
     "metadata": {},
     "output_type": "execute_result"
    }
   ],
   "source": [
    "full_data[\"_merge\"].value_counts()"
   ]
  },
  {
   "cell_type": "code",
   "execution_count": null,
   "metadata": {},
   "outputs": [],
   "source": []
  }
 ],
 "metadata": {
  "kernelspec": {
   "display_name": "Python 3",
   "language": "python",
   "name": "python3"
  },
  "language_info": {
   "codemirror_mode": {
    "name": "ipython",
    "version": 3
   },
   "file_extension": ".py",
   "mimetype": "text/x-python",
   "name": "python",
   "nbconvert_exporter": "python",
   "pygments_lexer": "ipython3",
   "version": "3.6.5"
  }
 },
 "nbformat": 4,
 "nbformat_minor": 2
}
